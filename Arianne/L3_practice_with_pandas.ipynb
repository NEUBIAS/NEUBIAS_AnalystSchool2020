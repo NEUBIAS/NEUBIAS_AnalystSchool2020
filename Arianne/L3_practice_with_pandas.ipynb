{
 "cells": [
  {
   "cell_type": "markdown",
   "metadata": {},
   "source": [
    "# Lesson 3: Practice with Pandas"
   ]
  },
  {
   "cell_type": "code",
   "execution_count": 12,
   "metadata": {},
   "outputs": [],
   "source": [
    "import pandas as pd"
   ]
  },
  {
   "cell_type": "markdown",
   "metadata": {},
   "source": [
    "<hr/>\n",
    "\n",
    "Pandas can be a bit frustrating during your first experiences with it. In this lesson, we will practice using Pandas. The more and more you use it, the more distant the memory of life without it will become."
   ]
  },
  {
   "cell_type": "markdown",
   "metadata": {},
   "source": [
    "## The data set\n",
    "\n",
    "The data set comes from [Kleinteich and Gorb, *Sci. Rep.*, **4**, 5355, 2014](https://doi.org/10.1038/srep05225), and was [featured in the New York Times](http://www.nytimes.com/2014/08/25/science/a-frog-thats-a-living-breathing-pac-man.html).  They measured several properties about the tongue strikes of horned frogs.  Let's take a look at the data set, which is in the file `~/Dataset/frog_tongue_adhesion.csv`."
   ]
  },
  {
   "cell_type": "code",
   "execution_count": 13,
   "metadata": {},
   "outputs": [
    {
     "name": "stdout",
     "output_type": "stream",
     "text": "\n\n\n\n\n\n\n\n\n\n\n\n\n\n\n\n\n\n\n\n"
    }
   ],
   "source": [
    "!head -20 Dataset/frog_tongue_adhesion.csv"
   ]
  },
  {
   "cell_type": "markdown",
   "metadata": {},
   "source": [
    "The first lines all begin with `#` signs, signifying that they are comments and not data. They do give important information, though, such as the meaning of the ID data. The ID refers to which specific frog was tested.\n",
    "\n",
    "Immediately after the comments, we have a row of comma-separated headers. This row sets the number of columns in this data set and labels the meaning of the columns. So, we see that the first column is the date of the experiment, the second column is the ID of the frog, the third is the trial number, and so on.\n",
    "\n",
    "After this row, each row represents a single experiment where the frog struck the target. So, these data are already in tidy format. Let's go ahead and load the data into a `DataFrame`."
   ]
  },
  {
   "cell_type": "code",
   "execution_count": 14,
   "metadata": {},
   "outputs": [
    {
     "data": {
      "text/html": "<div>\n<style scoped>\n    .dataframe tbody tr th:only-of-type {\n        vertical-align: middle;\n    }\n\n    .dataframe tbody tr th {\n        vertical-align: top;\n    }\n\n    .dataframe thead th {\n        text-align: right;\n    }\n</style>\n<table border=\"1\" class=\"dataframe\">\n  <thead>\n    <tr style=\"text-align: right;\">\n      <th></th>\n      <th>date</th>\n      <th>ID</th>\n      <th>trial number</th>\n      <th>impact force (mN)</th>\n      <th>impact time (ms)</th>\n      <th>impact force / body weight</th>\n      <th>adhesive force (mN)</th>\n      <th>time frog pulls on target (ms)</th>\n      <th>adhesive force / body weight</th>\n      <th>adhesive impulse (N-s)</th>\n      <th>total contact area (mm2)</th>\n      <th>contact area without mucus (mm2)</th>\n      <th>contact area with mucus / contact area without mucus</th>\n      <th>contact pressure (Pa)</th>\n      <th>adhesive strength (Pa)</th>\n    </tr>\n  </thead>\n  <tbody>\n    <tr>\n      <th>0</th>\n      <td>2013_02_26</td>\n      <td>I</td>\n      <td>3</td>\n      <td>1205</td>\n      <td>46</td>\n      <td>1.95</td>\n      <td>-785</td>\n      <td>884</td>\n      <td>1.27</td>\n      <td>-0.290</td>\n      <td>387</td>\n      <td>70</td>\n      <td>0.82</td>\n      <td>3117</td>\n      <td>-2030</td>\n    </tr>\n    <tr>\n      <th>1</th>\n      <td>2013_02_26</td>\n      <td>I</td>\n      <td>4</td>\n      <td>2527</td>\n      <td>44</td>\n      <td>4.08</td>\n      <td>-983</td>\n      <td>248</td>\n      <td>1.59</td>\n      <td>-0.181</td>\n      <td>101</td>\n      <td>94</td>\n      <td>0.07</td>\n      <td>24923</td>\n      <td>-9695</td>\n    </tr>\n    <tr>\n      <th>2</th>\n      <td>2013_03_01</td>\n      <td>I</td>\n      <td>1</td>\n      <td>1745</td>\n      <td>34</td>\n      <td>2.82</td>\n      <td>-850</td>\n      <td>211</td>\n      <td>1.37</td>\n      <td>-0.157</td>\n      <td>83</td>\n      <td>79</td>\n      <td>0.05</td>\n      <td>21020</td>\n      <td>-10239</td>\n    </tr>\n    <tr>\n      <th>3</th>\n      <td>2013_03_01</td>\n      <td>I</td>\n      <td>2</td>\n      <td>1556</td>\n      <td>41</td>\n      <td>2.51</td>\n      <td>-455</td>\n      <td>1025</td>\n      <td>0.74</td>\n      <td>-0.170</td>\n      <td>330</td>\n      <td>158</td>\n      <td>0.52</td>\n      <td>4718</td>\n      <td>-1381</td>\n    </tr>\n    <tr>\n      <th>4</th>\n      <td>2013_03_01</td>\n      <td>I</td>\n      <td>3</td>\n      <td>493</td>\n      <td>36</td>\n      <td>0.80</td>\n      <td>-974</td>\n      <td>499</td>\n      <td>1.57</td>\n      <td>-0.423</td>\n      <td>245</td>\n      <td>216</td>\n      <td>0.12</td>\n      <td>2012</td>\n      <td>-3975</td>\n    </tr>\n  </tbody>\n</table>\n</div>",
      "text/plain": "         date ID  trial number  impact force (mN)  impact time (ms)  \\\n0  2013_02_26  I             3               1205                46   \n1  2013_02_26  I             4               2527                44   \n2  2013_03_01  I             1               1745                34   \n3  2013_03_01  I             2               1556                41   \n4  2013_03_01  I             3                493                36   \n\n   impact force / body weight  adhesive force (mN)  \\\n0                        1.95                 -785   \n1                        4.08                 -983   \n2                        2.82                 -850   \n3                        2.51                 -455   \n4                        0.80                 -974   \n\n   time frog pulls on target (ms)  adhesive force / body weight  \\\n0                             884                          1.27   \n1                             248                          1.59   \n2                             211                          1.37   \n3                            1025                          0.74   \n4                             499                          1.57   \n\n   adhesive impulse (N-s)  total contact area (mm2)  \\\n0                  -0.290                       387   \n1                  -0.181                       101   \n2                  -0.157                        83   \n3                  -0.170                       330   \n4                  -0.423                       245   \n\n   contact area without mucus (mm2)  \\\n0                                70   \n1                                94   \n2                                79   \n3                               158   \n4                               216   \n\n   contact area with mucus / contact area without mucus  \\\n0                                               0.82      \n1                                               0.07      \n2                                               0.05      \n3                                               0.52      \n4                                               0.12      \n\n   contact pressure (Pa)  adhesive strength (Pa)  \n0                   3117                   -2030  \n1                  24923                   -9695  \n2                  21020                  -10239  \n3                   4718                   -1381  \n4                   2012                   -3975  "
     },
     "execution_count": 14,
     "metadata": {},
     "output_type": "execute_result"
    }
   ],
   "source": [
    "# Load the data\n",
    "df = pd.read_csv('Dataset/frog_tongue_adhesion.csv', comment='#')\n",
    "\n",
    "# Take a look\n",
    "df.head()"
   ]
  },
  {
   "cell_type": "markdown",
   "metadata": {},
   "source": [
    "## Practice 1: Mastering .loc\n",
    "\n",
    "Your goal here is to extract certain entries out of the `DataFrame`.\n",
    "\n",
    "**a)** Extract the impact time of all impacts that had an adhesive strength of magnitude greater than 2000 Pa. *Note*: The data in the `'adhesive strength (Pa)'` column is all negative. This is because the adhesive force is defined to be negative in the measurement. Without changing the data in the data frame, how can you check that the magnitude (the absolute value) is greater than 2000?\n",
    "\n",
    "**b)** Extract the impact force and adhesive force for all of Frog II's strikes.\n",
    "\n",
    "**c)** Extract the adhesive force and the time the frog pulls on the target for juvenile frogs (Frogs III and IV). *Hint*: We saw the `&` operator for Boolean indexing across more than one column. The `|` operator signifies OR, and works analogously. For technical reasons that we can discuss if you like, the Python operators `and` and `or` will **not** work for Boolean indexing of data frames. You could also approach this using the `isin()` method of a Pandas `Series`."
   ]
  },
  {
   "cell_type": "code",
   "execution_count": 29,
   "metadata": {},
   "outputs": [
    {
     "data": {
      "text/html": "<div>\n<style scoped>\n    .dataframe tbody tr th:only-of-type {\n        vertical-align: middle;\n    }\n\n    .dataframe tbody tr th {\n        vertical-align: top;\n    }\n\n    .dataframe thead th {\n        text-align: right;\n    }\n</style>\n<table border=\"1\" class=\"dataframe\">\n  <thead>\n    <tr style=\"text-align: right;\">\n      <th></th>\n      <th>impact time (ms)</th>\n    </tr>\n  </thead>\n  <tbody>\n    <tr>\n      <th>0</th>\n      <td>46</td>\n    </tr>\n    <tr>\n      <th>1</th>\n      <td>44</td>\n    </tr>\n    <tr>\n      <th>2</th>\n      <td>34</td>\n    </tr>\n    <tr>\n      <th>4</th>\n      <td>36</td>\n    </tr>\n    <tr>\n      <th>7</th>\n      <td>46</td>\n    </tr>\n    <tr>\n      <th>8</th>\n      <td>50</td>\n    </tr>\n    <tr>\n      <th>11</th>\n      <td>48</td>\n    </tr>\n    <tr>\n      <th>13</th>\n      <td>31</td>\n    </tr>\n    <tr>\n      <th>14</th>\n      <td>38</td>\n    </tr>\n    <tr>\n      <th>17</th>\n      <td>60</td>\n    </tr>\n    <tr>\n      <th>19</th>\n      <td>40</td>\n    </tr>\n    <tr>\n      <th>23</th>\n      <td>59</td>\n    </tr>\n    <tr>\n      <th>24</th>\n      <td>33</td>\n    </tr>\n    <tr>\n      <th>25</th>\n      <td>43</td>\n    </tr>\n    <tr>\n      <th>27</th>\n      <td>31</td>\n    </tr>\n    <tr>\n      <th>29</th>\n      <td>42</td>\n    </tr>\n    <tr>\n      <th>31</th>\n      <td>57</td>\n    </tr>\n    <tr>\n      <th>33</th>\n      <td>21</td>\n    </tr>\n    <tr>\n      <th>35</th>\n      <td>29</td>\n    </tr>\n    <tr>\n      <th>37</th>\n      <td>31</td>\n    </tr>\n    <tr>\n      <th>38</th>\n      <td>15</td>\n    </tr>\n    <tr>\n      <th>39</th>\n      <td>42</td>\n    </tr>\n    <tr>\n      <th>42</th>\n      <td>105</td>\n    </tr>\n    <tr>\n      <th>44</th>\n      <td>29</td>\n    </tr>\n    <tr>\n      <th>45</th>\n      <td>16</td>\n    </tr>\n    <tr>\n      <th>47</th>\n      <td>31</td>\n    </tr>\n    <tr>\n      <th>49</th>\n      <td>32</td>\n    </tr>\n    <tr>\n      <th>50</th>\n      <td>30</td>\n    </tr>\n    <tr>\n      <th>51</th>\n      <td>16</td>\n    </tr>\n    <tr>\n      <th>52</th>\n      <td>27</td>\n    </tr>\n    <tr>\n      <th>53</th>\n      <td>30</td>\n    </tr>\n    <tr>\n      <th>54</th>\n      <td>35</td>\n    </tr>\n    <tr>\n      <th>55</th>\n      <td>39</td>\n    </tr>\n    <tr>\n      <th>57</th>\n      <td>34</td>\n    </tr>\n    <tr>\n      <th>59</th>\n      <td>34</td>\n    </tr>\n    <tr>\n      <th>60</th>\n      <td>26</td>\n    </tr>\n    <tr>\n      <th>61</th>\n      <td>20</td>\n    </tr>\n    <tr>\n      <th>62</th>\n      <td>55</td>\n    </tr>\n    <tr>\n      <th>65</th>\n      <td>33</td>\n    </tr>\n    <tr>\n      <th>66</th>\n      <td>74</td>\n    </tr>\n    <tr>\n      <th>67</th>\n      <td>26</td>\n    </tr>\n    <tr>\n      <th>68</th>\n      <td>27</td>\n    </tr>\n    <tr>\n      <th>69</th>\n      <td>33</td>\n    </tr>\n    <tr>\n      <th>71</th>\n      <td>6</td>\n    </tr>\n    <tr>\n      <th>73</th>\n      <td>31</td>\n    </tr>\n    <tr>\n      <th>74</th>\n      <td>34</td>\n    </tr>\n    <tr>\n      <th>75</th>\n      <td>38</td>\n    </tr>\n    <tr>\n      <th>78</th>\n      <td>33</td>\n    </tr>\n  </tbody>\n</table>\n</div>",
      "text/plain": "    impact time (ms)\n0                 46\n1                 44\n2                 34\n4                 36\n7                 46\n8                 50\n11                48\n13                31\n14                38\n17                60\n19                40\n23                59\n24                33\n25                43\n27                31\n29                42\n31                57\n33                21\n35                29\n37                31\n38                15\n39                42\n42               105\n44                29\n45                16\n47                31\n49                32\n50                30\n51                16\n52                27\n53                30\n54                35\n55                39\n57                34\n59                34\n60                26\n61                20\n62                55\n65                33\n66                74\n67                26\n68                27\n69                33\n71                 6\n73                31\n74                34\n75                38\n78                33"
     },
     "execution_count": 29,
     "metadata": {},
     "output_type": "execute_result"
    }
   ],
   "source": [
    "df.loc[df['adhesive strength (Pa)'] < -2000, ['impact time (ms)']]"
   ]
  },
  {
   "cell_type": "code",
   "execution_count": 28,
   "metadata": {},
   "outputs": [
    {
     "data": {
      "text/html": "<div>\n<style scoped>\n    .dataframe tbody tr th:only-of-type {\n        vertical-align: middle;\n    }\n\n    .dataframe tbody tr th {\n        vertical-align: top;\n    }\n\n    .dataframe thead th {\n        text-align: right;\n    }\n</style>\n<table border=\"1\" class=\"dataframe\">\n  <thead>\n    <tr style=\"text-align: right;\">\n      <th></th>\n      <th>impact force (mN)</th>\n      <th>impact time (ms)</th>\n    </tr>\n  </thead>\n  <tbody>\n    <tr>\n      <th>20</th>\n      <td>1612</td>\n      <td>18</td>\n    </tr>\n    <tr>\n      <th>21</th>\n      <td>605</td>\n      <td>55</td>\n    </tr>\n    <tr>\n      <th>22</th>\n      <td>327</td>\n      <td>51</td>\n    </tr>\n    <tr>\n      <th>23</th>\n      <td>946</td>\n      <td>59</td>\n    </tr>\n    <tr>\n      <th>24</th>\n      <td>541</td>\n      <td>33</td>\n    </tr>\n    <tr>\n      <th>25</th>\n      <td>1539</td>\n      <td>43</td>\n    </tr>\n    <tr>\n      <th>26</th>\n      <td>529</td>\n      <td>28</td>\n    </tr>\n    <tr>\n      <th>27</th>\n      <td>628</td>\n      <td>31</td>\n    </tr>\n    <tr>\n      <th>28</th>\n      <td>1453</td>\n      <td>72</td>\n    </tr>\n    <tr>\n      <th>29</th>\n      <td>297</td>\n      <td>42</td>\n    </tr>\n    <tr>\n      <th>30</th>\n      <td>703</td>\n      <td>33</td>\n    </tr>\n    <tr>\n      <th>31</th>\n      <td>269</td>\n      <td>57</td>\n    </tr>\n    <tr>\n      <th>32</th>\n      <td>751</td>\n      <td>39</td>\n    </tr>\n    <tr>\n      <th>33</th>\n      <td>245</td>\n      <td>21</td>\n    </tr>\n    <tr>\n      <th>34</th>\n      <td>1182</td>\n      <td>28</td>\n    </tr>\n    <tr>\n      <th>35</th>\n      <td>515</td>\n      <td>29</td>\n    </tr>\n    <tr>\n      <th>36</th>\n      <td>435</td>\n      <td>26</td>\n    </tr>\n    <tr>\n      <th>37</th>\n      <td>383</td>\n      <td>31</td>\n    </tr>\n    <tr>\n      <th>38</th>\n      <td>457</td>\n      <td>15</td>\n    </tr>\n    <tr>\n      <th>39</th>\n      <td>730</td>\n      <td>42</td>\n    </tr>\n  </tbody>\n</table>\n</div>",
      "text/plain": "    impact force (mN)  impact time (ms)\n20               1612                18\n21                605                55\n22                327                51\n23                946                59\n24                541                33\n25               1539                43\n26                529                28\n27                628                31\n28               1453                72\n29                297                42\n30                703                33\n31                269                57\n32                751                39\n33                245                21\n34               1182                28\n35                515                29\n36                435                26\n37                383                31\n38                457                15\n39                730                42"
     },
     "execution_count": 28,
     "metadata": {},
     "output_type": "execute_result"
    }
   ],
   "source": [
    "df.loc[df['ID'] == 'II',['impact force (mN)', 'impact time (ms)']]"
   ]
  },
  {
   "cell_type": "markdown",
   "metadata": {},
   "source": [
    "## Practice 2: Split-Apply-Combine of the frog data set\n",
    "\n",
    "You'll now practice your split-apply-combine skills.\n",
    "\n",
    "**a)** Compute standard deviation of the impact forces for each frog.\n",
    "\n",
    "**b)** Compute the coefficient of variation of the impact forces *and* adhesive forces for each frog.\n",
    "\n",
    "**c)** And now, finally.... Compute a `DataFrame` that has the mean, median, standard deviation, and coefficient of variation of the impact forces and adhesive forces for each frog. After you make this `DataFrame`, you might want to explore using the `pd.melt()` function to make it tidy. You can read [the documentation](http://pandas.pydata.org/pandas-docs/stable/generated/pandas.melt.html)."
   ]
  },
  {
   "cell_type": "markdown",
   "metadata": {},
   "source": [
    "## Computing environment"
   ]
  },
  {
   "cell_type": "code",
   "execution_count": 37,
   "metadata": {},
   "outputs": [
    {
     "data": {
      "text/html": "<div>\n<style scoped>\n    .dataframe tbody tr th:only-of-type {\n        vertical-align: middle;\n    }\n\n    .dataframe tbody tr th {\n        vertical-align: top;\n    }\n\n    .dataframe thead th {\n        text-align: right;\n    }\n</style>\n<table border=\"1\" class=\"dataframe\">\n  <thead>\n    <tr style=\"text-align: right;\">\n      <th></th>\n      <th>count</th>\n      <th>mean</th>\n      <th>std</th>\n      <th>min</th>\n      <th>25%</th>\n      <th>50%</th>\n      <th>75%</th>\n      <th>max</th>\n    </tr>\n    <tr>\n      <th>ID</th>\n      <th></th>\n      <th></th>\n      <th></th>\n      <th></th>\n      <th></th>\n      <th></th>\n      <th></th>\n      <th></th>\n    </tr>\n  </thead>\n  <tbody>\n    <tr>\n      <th>I</th>\n      <td>20.0</td>\n      <td>1530.20</td>\n      <td>630.207952</td>\n      <td>473.0</td>\n      <td>1231.25</td>\n      <td>1550.5</td>\n      <td>1904.75</td>\n      <td>2641.0</td>\n    </tr>\n    <tr>\n      <th>II</th>\n      <td>20.0</td>\n      <td>707.35</td>\n      <td>424.573256</td>\n      <td>245.0</td>\n      <td>422.00</td>\n      <td>573.0</td>\n      <td>799.75</td>\n      <td>1612.0</td>\n    </tr>\n    <tr>\n      <th>III</th>\n      <td>20.0</td>\n      <td>550.10</td>\n      <td>124.273849</td>\n      <td>324.0</td>\n      <td>458.75</td>\n      <td>544.0</td>\n      <td>615.75</td>\n      <td>806.0</td>\n    </tr>\n    <tr>\n      <th>IV</th>\n      <td>20.0</td>\n      <td>419.10</td>\n      <td>234.864328</td>\n      <td>22.0</td>\n      <td>198.00</td>\n      <td>460.5</td>\n      <td>599.00</td>\n      <td>815.0</td>\n    </tr>\n  </tbody>\n</table>\n</div>",
      "text/plain": "     count     mean         std    min      25%     50%      75%     max\nID                                                                      \nI     20.0  1530.20  630.207952  473.0  1231.25  1550.5  1904.75  2641.0\nII    20.0   707.35  424.573256  245.0   422.00   573.0   799.75  1612.0\nIII   20.0   550.10  124.273849  324.0   458.75   544.0   615.75   806.0\nIV    20.0   419.10  234.864328   22.0   198.00   460.5   599.00   815.0"
     },
     "execution_count": 37,
     "metadata": {},
     "output_type": "execute_result"
    }
   ],
   "source": [
    "df.groupby(['ID'])['impact force (mN)'].describe()"
   ]
  },
  {
   "cell_type": "code",
   "execution_count": 51,
   "metadata": {},
   "outputs": [
    {
     "data": {
      "text/html": "<div>\n<style scoped>\n    .dataframe tbody tr th:only-of-type {\n        vertical-align: middle;\n    }\n\n    .dataframe tbody tr th {\n        vertical-align: top;\n    }\n\n    .dataframe thead th {\n        text-align: right;\n    }\n</style>\n<table border=\"1\" class=\"dataframe\">\n  <thead>\n    <tr style=\"text-align: right;\">\n      <th></th>\n      <th>ID</th>\n      <th>impact time (ms)</th>\n    </tr>\n  </thead>\n  <tbody>\n    <tr>\n      <th>0</th>\n      <td>I</td>\n      <td>46</td>\n    </tr>\n    <tr>\n      <th>1</th>\n      <td>I</td>\n      <td>44</td>\n    </tr>\n    <tr>\n      <th>2</th>\n      <td>I</td>\n      <td>34</td>\n    </tr>\n    <tr>\n      <th>3</th>\n      <td>I</td>\n      <td>41</td>\n    </tr>\n    <tr>\n      <th>4</th>\n      <td>I</td>\n      <td>36</td>\n    </tr>\n    <tr>\n      <th>...</th>\n      <td>...</td>\n      <td>...</td>\n    </tr>\n    <tr>\n      <th>75</th>\n      <td>IV</td>\n      <td>38</td>\n    </tr>\n    <tr>\n      <th>76</th>\n      <td>IV</td>\n      <td>39</td>\n    </tr>\n    <tr>\n      <th>77</th>\n      <td>IV</td>\n      <td>76</td>\n    </tr>\n    <tr>\n      <th>78</th>\n      <td>IV</td>\n      <td>33</td>\n    </tr>\n    <tr>\n      <th>79</th>\n      <td>IV</td>\n      <td>36</td>\n    </tr>\n  </tbody>\n</table>\n<p>80 rows × 2 columns</p>\n</div>",
      "text/plain": "    ID  impact time (ms)\n0    I                46\n1    I                44\n2    I                34\n3    I                41\n4    I                36\n..  ..               ...\n75  IV                38\n76  IV                39\n77  IV                76\n78  IV                33\n79  IV                36\n\n[80 rows x 2 columns]"
     },
     "execution_count": 51,
     "metadata": {},
     "output_type": "execute_result"
    }
   ],
   "source": [
    "df[\n",
    "    [\n",
    "        'ID',\n",
    "        'impact time (ms)'\n",
    "    ]\n",
    "]"
   ]
  },
  {
   "cell_type": "code",
   "execution_count": 4,
   "metadata": {},
   "outputs": [
    {
     "name": "stdout",
     "output_type": "stream",
     "text": [
      "CPython 3.6.8\n",
      "IPython 7.1.1\n",
      "\n",
      "pandas 0.24.2\n",
      "jupyterlab 1.0.2\n"
     ]
    }
   ],
   "source": [
    "%load_ext watermark\n",
    "%watermark -v -p pandas,jupyterlab"
   ]
  }
 ],
 "metadata": {
  "anaconda-cloud": {},
  "kernelspec": {
   "display_name": "Python 3",
   "language": "python",
   "name": "python3"
  },
  "language_info": {
   "codemirror_mode": {
    "name": "ipython",
    "version": 3
   },
   "file_extension": ".py",
   "mimetype": "text/x-python",
   "name": "python",
   "nbconvert_exporter": "python",
   "pygments_lexer": "ipython3",
   "version": "3.7.4-final"
  }
 },
 "nbformat": 4,
 "nbformat_minor": 4
}