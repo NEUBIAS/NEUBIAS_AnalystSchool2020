{
 "cells": [
  {
   "cell_type": "markdown",
   "metadata": {},
   "source": [
    "# Lesson 1: Introduction to Pandas"
   ]
  },
  {
   "cell_type": "code",
   "execution_count": 1,
   "metadata": {},
   "outputs": [],
   "source": [
    "import numpy as np\n",
    "\n",
    "# Pandas, conventionally imported as pd\n",
    "import pandas as pd"
   ]
  },
  {
   "cell_type": "markdown",
   "metadata": {},
   "source": [
    "<hr />\n",
    "\n",
    "During your career in an Image Facility, you will undoubtedly need to handle data, possibly lots of data. The data comes in lots of formats, and you will spend much of your time **wrangling** the data to get it into a usable form.\n",
    "\n",
    "Pandas is the primary tool in the Python ecosystem for handling data. Its primary object, the `DataFrame` is extremely useful in wrangling data. We will explore some of that functionality here, and will put it to use in the next lesson."
   ]
  },
  {
   "cell_type": "markdown",
   "metadata": {},
   "source": [
    "## The data set\n",
    "\n",
    "We will explore using Pandas with a real data set. We will use a data set published in [Beattie, et al., Perceptual impairment in face identification with poor sleep, *Royal Society Open Science*, **3**, 160321, 2016](https://doi.org/10.1098/rsos.160321). In this paper, researchers used the [Glasgow Facial Matching Test](https://doi.org/10.3758/BRM.42.1.286) (GMFT) to investigate how sleep deprivation affects a subject's ability to match faces, as well as the confidence the subject has in those matches. Briefly, the test works by having subjects look at a pair of faces. Two such pairs are shown below.\n",
    "\n",
    "<center><img src=\"Dataset/gfmt_faces.jpg\" alt=\"Dataset/gfmt_faces.jpg\" width=\"300\"></center><br/>\n",
    "\n",
    "The top two pictures are the same person, the bottom two pictures are different people. For each pair of faces, the subject gets as much time as he or she needs and then says whether or not they are the same person. The subject then rates his or her confidence in the choice.\n",
    "\n",
    "In this study, subjects also took surveys to determine properties about their sleep. The Sleep Condition Indicator (SCI) is a measure of insomnia disorder over the past month (scores of 16 and below indicate insomnia). The Pittsburgh Sleep Quality Index (PSQI) quantifies how well a subject sleeps in terms of interruptions, latency, etc. A higher score indicates poorer sleep. The Epworth Sleepiness Scale (ESS) assesses daytime drowsiness.\n",
    "\n",
    "The data set is stored in the file `~/Lessons/Dataset/gfmt_sleep.csv`. The contents of this file were adapted from [the Excel file posted on the public Dryad repository](https://doi.org/10.5061/dryad.r620r). \n",
    "\n",
    "This is a **CSV file**, where CSV stands for comma-separated value. This is a text file that is easily read into data structures in many programming languages. You should generally always store your data in such a format, not necessarily CSV, but a format that is open, has a well-defined specification, and is readable in many contexts. Excel files do not meet these criteria. Neither to `.mat` files.\n",
    "\n",
    "Let's take a look at the CSV file."
   ]
  },
  {
   "cell_type": "code",
   "execution_count": 2,
   "metadata": {},
   "outputs": [
    {
     "output_type": "stream",
     "name": "stdout",
     "text": "\n\n\n\n\n\n\n\n\n\n"
    }
   ],
   "source": [
    "!head Dataset/gfmt_sleep.csv"
   ]
  },
  {
   "cell_type": "markdown",
   "metadata": {},
   "source": [
    "The first line contains the **headers** for each column. They are participant number, gender, age, etc. The data follow. There are two important things to note here. First, notice that the `gender` column has string data (`m` or `f`), while the rest of the data are numeric. Note also that there are some **missing data**, denoted by the `*`s in the file.\n",
    "\n",
    "It is possible to parse this file and extract the data you want. Hoever, this might be kind of painful. If the file format is nice and clean, like we more or less have here, we can use pre-built tools. Pandas has a very powerful function, `pd.read_csv()` that can read in a CSV file and store the contents in a convenient data structure called a `DataFrame`. \n",
    "\n",
    "*Pandas is also able to read xls, json, etc. For more information check: https://pandas.pydata.org/pandas-docs/stable/user_guide/io.html*"
   ]
  },
  {
   "cell_type": "markdown",
   "metadata": {},
   "source": [
    "## Reading in data\n",
    "\n",
    "Let's first look at the doc string of `pd.read_csv()`."
   ]
  },
  {
   "cell_type": "code",
   "execution_count": 3,
   "metadata": {},
   "outputs": [],
   "source": [
    "pd.read_csv?"
   ]
  },
  {
   "cell_type": "markdown",
   "metadata": {},
   "source": [
    "Holy cow! There are so many options we can specify for reading in a CSV file. You will likely find reasons to use many of these throughout your work. For this particular data set, we really only need the `na_values` kwarg. This specifies what characters signify that a data point is missing. The resulting `DataFrame` is populated with a **NaN**, or not-a-number, wherever this character is present in the file. In this case, we want `na_values='*'`. So, let's load in the data set."
   ]
  },
  {
   "cell_type": "code",
   "execution_count": 4,
   "metadata": {},
   "outputs": [
    {
     "output_type": "execute_result",
     "data": {
      "text/plain": "pandas.core.frame.DataFrame"
     },
     "metadata": {},
     "execution_count": 4
    }
   ],
   "source": [
    "df = pd.read_csv('Dataset/gfmt_sleep.csv', na_values='*')\n",
    "\n",
    "# Check the type\n",
    "type(df)"
   ]
  },
  {
   "cell_type": "markdown",
   "metadata": {},
   "source": [
    "We now have the data stored in a `DataFrame`. We can look at it in the Jupyter notebook, since Jupyter will display it in a well-organized, pretty way."
   ]
  },
  {
   "cell_type": "code",
   "execution_count": 5,
   "metadata": {},
   "outputs": [
    {
     "output_type": "execute_result",
     "data": {
      "text/plain": "     participant number gender  age  correct hit percentage  \\\n0                     8      f   39                      65   \n1                    16      m   42                      90   \n2                    18      f   31                      90   \n3                    22      f   35                     100   \n4                    27      f   74                      60   \n..                  ...    ...  ...                     ...   \n97                   97      f   23                      70   \n98                   98      f   70                      90   \n99                   99      f   24                      70   \n100                 102      f   40                      75   \n101                 103      f   33                      85   \n\n     correct reject percentage  percent correct  confidence when correct hit  \\\n0                           80             72.5                         91.0   \n1                           90             90.0                         75.5   \n2                           95             92.5                         89.5   \n3                           75             87.5                         89.5   \n4                           65             62.5                         68.5   \n..                         ...              ...                          ...   \n97                          85             77.5                         77.0   \n98                          85             87.5                         65.5   \n99                          80             75.0                         61.5   \n100                         65             70.0                         53.0   \n101                         40             62.5                         80.0   \n\n     confidence incorrect hit  confidence correct reject  \\\n0                        90.0                       93.0   \n1                        55.5                       70.5   \n2                        90.0                       86.0   \n3                         NaN                       71.0   \n4                        49.0                       61.0   \n..                        ...                        ...   \n97                       66.5                       77.0   \n98                       85.5                       87.0   \n99                       81.0                       70.0   \n100                      37.0                       84.0   \n101                      27.0                       31.0   \n\n     confidence incorrect reject  confidence when correct  \\\n0                           83.5                     93.0   \n1                           50.0                     75.0   \n2                           81.0                     89.0   \n3                           80.0                     88.0   \n4                           49.0                     65.0   \n..                           ...                      ...   \n97                          77.5                     77.0   \n98                          80.0                     74.0   \n99                          61.0                     65.0   \n100                         52.0                     81.0   \n101                         82.5                     81.0   \n\n     confidence when incorrect  sci  psqi  ess  \n0                         90.0    9    13    2  \n1                         50.0    4    11    7  \n2                         88.0   10     9    3  \n3                         80.0   13     8   20  \n4                         49.0   13     9   12  \n..                         ...  ...   ...  ...  \n97                        74.0   20     8   10  \n98                        80.0   19     8    7  \n99                        81.0   31     2   15  \n100                       51.0   22     4    7  \n101                       73.0   24     5    7  \n\n[102 rows x 15 columns]",
      "text/html": "<div>\n<style scoped>\n    .dataframe tbody tr th:only-of-type {\n        vertical-align: middle;\n    }\n\n    .dataframe tbody tr th {\n        vertical-align: top;\n    }\n\n    .dataframe thead th {\n        text-align: right;\n    }\n</style>\n<table border=\"1\" class=\"dataframe\">\n  <thead>\n    <tr style=\"text-align: right;\">\n      <th></th>\n      <th>participant number</th>\n      <th>gender</th>\n      <th>age</th>\n      <th>correct hit percentage</th>\n      <th>correct reject percentage</th>\n      <th>percent correct</th>\n      <th>confidence when correct hit</th>\n      <th>confidence incorrect hit</th>\n      <th>confidence correct reject</th>\n      <th>confidence incorrect reject</th>\n      <th>confidence when correct</th>\n      <th>confidence when incorrect</th>\n      <th>sci</th>\n      <th>psqi</th>\n      <th>ess</th>\n    </tr>\n  </thead>\n  <tbody>\n    <tr>\n      <td>0</td>\n      <td>8</td>\n      <td>f</td>\n      <td>39</td>\n      <td>65</td>\n      <td>80</td>\n      <td>72.5</td>\n      <td>91.0</td>\n      <td>90.0</td>\n      <td>93.0</td>\n      <td>83.5</td>\n      <td>93.0</td>\n      <td>90.0</td>\n      <td>9</td>\n      <td>13</td>\n      <td>2</td>\n    </tr>\n    <tr>\n      <td>1</td>\n      <td>16</td>\n      <td>m</td>\n      <td>42</td>\n      <td>90</td>\n      <td>90</td>\n      <td>90.0</td>\n      <td>75.5</td>\n      <td>55.5</td>\n      <td>70.5</td>\n      <td>50.0</td>\n      <td>75.0</td>\n      <td>50.0</td>\n      <td>4</td>\n      <td>11</td>\n      <td>7</td>\n    </tr>\n    <tr>\n      <td>2</td>\n      <td>18</td>\n      <td>f</td>\n      <td>31</td>\n      <td>90</td>\n      <td>95</td>\n      <td>92.5</td>\n      <td>89.5</td>\n      <td>90.0</td>\n      <td>86.0</td>\n      <td>81.0</td>\n      <td>89.0</td>\n      <td>88.0</td>\n      <td>10</td>\n      <td>9</td>\n      <td>3</td>\n    </tr>\n    <tr>\n      <td>3</td>\n      <td>22</td>\n      <td>f</td>\n      <td>35</td>\n      <td>100</td>\n      <td>75</td>\n      <td>87.5</td>\n      <td>89.5</td>\n      <td>NaN</td>\n      <td>71.0</td>\n      <td>80.0</td>\n      <td>88.0</td>\n      <td>80.0</td>\n      <td>13</td>\n      <td>8</td>\n      <td>20</td>\n    </tr>\n    <tr>\n      <td>4</td>\n      <td>27</td>\n      <td>f</td>\n      <td>74</td>\n      <td>60</td>\n      <td>65</td>\n      <td>62.5</td>\n      <td>68.5</td>\n      <td>49.0</td>\n      <td>61.0</td>\n      <td>49.0</td>\n      <td>65.0</td>\n      <td>49.0</td>\n      <td>13</td>\n      <td>9</td>\n      <td>12</td>\n    </tr>\n    <tr>\n      <td>...</td>\n      <td>...</td>\n      <td>...</td>\n      <td>...</td>\n      <td>...</td>\n      <td>...</td>\n      <td>...</td>\n      <td>...</td>\n      <td>...</td>\n      <td>...</td>\n      <td>...</td>\n      <td>...</td>\n      <td>...</td>\n      <td>...</td>\n      <td>...</td>\n      <td>...</td>\n    </tr>\n    <tr>\n      <td>97</td>\n      <td>97</td>\n      <td>f</td>\n      <td>23</td>\n      <td>70</td>\n      <td>85</td>\n      <td>77.5</td>\n      <td>77.0</td>\n      <td>66.5</td>\n      <td>77.0</td>\n      <td>77.5</td>\n      <td>77.0</td>\n      <td>74.0</td>\n      <td>20</td>\n      <td>8</td>\n      <td>10</td>\n    </tr>\n    <tr>\n      <td>98</td>\n      <td>98</td>\n      <td>f</td>\n      <td>70</td>\n      <td>90</td>\n      <td>85</td>\n      <td>87.5</td>\n      <td>65.5</td>\n      <td>85.5</td>\n      <td>87.0</td>\n      <td>80.0</td>\n      <td>74.0</td>\n      <td>80.0</td>\n      <td>19</td>\n      <td>8</td>\n      <td>7</td>\n    </tr>\n    <tr>\n      <td>99</td>\n      <td>99</td>\n      <td>f</td>\n      <td>24</td>\n      <td>70</td>\n      <td>80</td>\n      <td>75.0</td>\n      <td>61.5</td>\n      <td>81.0</td>\n      <td>70.0</td>\n      <td>61.0</td>\n      <td>65.0</td>\n      <td>81.0</td>\n      <td>31</td>\n      <td>2</td>\n      <td>15</td>\n    </tr>\n    <tr>\n      <td>100</td>\n      <td>102</td>\n      <td>f</td>\n      <td>40</td>\n      <td>75</td>\n      <td>65</td>\n      <td>70.0</td>\n      <td>53.0</td>\n      <td>37.0</td>\n      <td>84.0</td>\n      <td>52.0</td>\n      <td>81.0</td>\n      <td>51.0</td>\n      <td>22</td>\n      <td>4</td>\n      <td>7</td>\n    </tr>\n    <tr>\n      <td>101</td>\n      <td>103</td>\n      <td>f</td>\n      <td>33</td>\n      <td>85</td>\n      <td>40</td>\n      <td>62.5</td>\n      <td>80.0</td>\n      <td>27.0</td>\n      <td>31.0</td>\n      <td>82.5</td>\n      <td>81.0</td>\n      <td>73.0</td>\n      <td>24</td>\n      <td>5</td>\n      <td>7</td>\n    </tr>\n  </tbody>\n</table>\n<p>102 rows × 15 columns</p>\n</div>"
     },
     "metadata": {},
     "execution_count": 5
    }
   ],
   "source": [
    "df"
   ]
  },
  {
   "cell_type": "markdown",
   "metadata": {},
   "source": [
    "This is a nice representation of the data, but we really do not need to display that much. Instead, we can use the `head()` method of `DataFrame`s to look at the first few rows."
   ]
  },
  {
   "cell_type": "code",
   "execution_count": 6,
   "metadata": {},
   "outputs": [
    {
     "output_type": "execute_result",
     "data": {
      "text/plain": "   participant number gender  age  correct hit percentage  \\\n0                   8      f   39                      65   \n1                  16      m   42                      90   \n2                  18      f   31                      90   \n3                  22      f   35                     100   \n4                  27      f   74                      60   \n\n   correct reject percentage  percent correct  confidence when correct hit  \\\n0                         80             72.5                         91.0   \n1                         90             90.0                         75.5   \n2                         95             92.5                         89.5   \n3                         75             87.5                         89.5   \n4                         65             62.5                         68.5   \n\n   confidence incorrect hit  confidence correct reject  \\\n0                      90.0                       93.0   \n1                      55.5                       70.5   \n2                      90.0                       86.0   \n3                       NaN                       71.0   \n4                      49.0                       61.0   \n\n   confidence incorrect reject  confidence when correct  \\\n0                         83.5                     93.0   \n1                         50.0                     75.0   \n2                         81.0                     89.0   \n3                         80.0                     88.0   \n4                         49.0                     65.0   \n\n   confidence when incorrect  sci  psqi  ess  \n0                       90.0    9    13    2  \n1                       50.0    4    11    7  \n2                       88.0   10     9    3  \n3                       80.0   13     8   20  \n4                       49.0   13     9   12  ",
      "text/html": "<div>\n<style scoped>\n    .dataframe tbody tr th:only-of-type {\n        vertical-align: middle;\n    }\n\n    .dataframe tbody tr th {\n        vertical-align: top;\n    }\n\n    .dataframe thead th {\n        text-align: right;\n    }\n</style>\n<table border=\"1\" class=\"dataframe\">\n  <thead>\n    <tr style=\"text-align: right;\">\n      <th></th>\n      <th>participant number</th>\n      <th>gender</th>\n      <th>age</th>\n      <th>correct hit percentage</th>\n      <th>correct reject percentage</th>\n      <th>percent correct</th>\n      <th>confidence when correct hit</th>\n      <th>confidence incorrect hit</th>\n      <th>confidence correct reject</th>\n      <th>confidence incorrect reject</th>\n      <th>confidence when correct</th>\n      <th>confidence when incorrect</th>\n      <th>sci</th>\n      <th>psqi</th>\n      <th>ess</th>\n    </tr>\n  </thead>\n  <tbody>\n    <tr>\n      <td>0</td>\n      <td>8</td>\n      <td>f</td>\n      <td>39</td>\n      <td>65</td>\n      <td>80</td>\n      <td>72.5</td>\n      <td>91.0</td>\n      <td>90.0</td>\n      <td>93.0</td>\n      <td>83.5</td>\n      <td>93.0</td>\n      <td>90.0</td>\n      <td>9</td>\n      <td>13</td>\n      <td>2</td>\n    </tr>\n    <tr>\n      <td>1</td>\n      <td>16</td>\n      <td>m</td>\n      <td>42</td>\n      <td>90</td>\n      <td>90</td>\n      <td>90.0</td>\n      <td>75.5</td>\n      <td>55.5</td>\n      <td>70.5</td>\n      <td>50.0</td>\n      <td>75.0</td>\n      <td>50.0</td>\n      <td>4</td>\n      <td>11</td>\n      <td>7</td>\n    </tr>\n    <tr>\n      <td>2</td>\n      <td>18</td>\n      <td>f</td>\n      <td>31</td>\n      <td>90</td>\n      <td>95</td>\n      <td>92.5</td>\n      <td>89.5</td>\n      <td>90.0</td>\n      <td>86.0</td>\n      <td>81.0</td>\n      <td>89.0</td>\n      <td>88.0</td>\n      <td>10</td>\n      <td>9</td>\n      <td>3</td>\n    </tr>\n    <tr>\n      <td>3</td>\n      <td>22</td>\n      <td>f</td>\n      <td>35</td>\n      <td>100</td>\n      <td>75</td>\n      <td>87.5</td>\n      <td>89.5</td>\n      <td>NaN</td>\n      <td>71.0</td>\n      <td>80.0</td>\n      <td>88.0</td>\n      <td>80.0</td>\n      <td>13</td>\n      <td>8</td>\n      <td>20</td>\n    </tr>\n    <tr>\n      <td>4</td>\n      <td>27</td>\n      <td>f</td>\n      <td>74</td>\n      <td>60</td>\n      <td>65</td>\n      <td>62.5</td>\n      <td>68.5</td>\n      <td>49.0</td>\n      <td>61.0</td>\n      <td>49.0</td>\n      <td>65.0</td>\n      <td>49.0</td>\n      <td>13</td>\n      <td>9</td>\n      <td>12</td>\n    </tr>\n  </tbody>\n</table>\n</div>"
     },
     "metadata": {},
     "execution_count": 6
    }
   ],
   "source": [
    "df.head()"
   ]
  },
  {
   "cell_type": "markdown",
   "metadata": {},
   "source": [
    "This is more manageable and gives us an overview of what the columns are. Note also the the missing data was populated with NaN."
   ]
  },
  {
   "cell_type": "markdown",
   "metadata": {},
   "source": [
    "## Indexing data frames\n",
    "\n",
    "The `DataFrame` is a convenient data structure for many reasons that will become clear as we start exploring. Let's start by looking at how `DataFrame`s are indexed. Let's try to look at the first row."
   ]
  },
  {
   "cell_type": "code",
   "execution_count": 7,
   "metadata": {},
   "outputs": [
    {
     "output_type": "error",
     "ename": "KeyError",
     "evalue": "0",
     "traceback": [
      "\u001b[0;31m---------------------------------------------------------------------------\u001b[0m",
      "\u001b[0;31mKeyError\u001b[0m                                  Traceback (most recent call last)",
      "\u001b[0;32m~/.pyenv/versions/anaconda3-2019.10/lib/python3.7/site-packages/pandas/core/indexes/base.py\u001b[0m in \u001b[0;36mget_loc\u001b[0;34m(self, key, method, tolerance)\u001b[0m\n\u001b[1;32m   2896\u001b[0m             \u001b[0;32mtry\u001b[0m\u001b[0;34m:\u001b[0m\u001b[0;34m\u001b[0m\u001b[0;34m\u001b[0m\u001b[0m\n\u001b[0;32m-> 2897\u001b[0;31m                 \u001b[0;32mreturn\u001b[0m \u001b[0mself\u001b[0m\u001b[0;34m.\u001b[0m\u001b[0m_engine\u001b[0m\u001b[0;34m.\u001b[0m\u001b[0mget_loc\u001b[0m\u001b[0;34m(\u001b[0m\u001b[0mkey\u001b[0m\u001b[0;34m)\u001b[0m\u001b[0;34m\u001b[0m\u001b[0;34m\u001b[0m\u001b[0m\n\u001b[0m\u001b[1;32m   2898\u001b[0m             \u001b[0;32mexcept\u001b[0m \u001b[0mKeyError\u001b[0m\u001b[0;34m:\u001b[0m\u001b[0;34m\u001b[0m\u001b[0;34m\u001b[0m\u001b[0m\n",
      "\u001b[0;32mpandas/_libs/index.pyx\u001b[0m in \u001b[0;36mpandas._libs.index.IndexEngine.get_loc\u001b[0;34m()\u001b[0m\n",
      "\u001b[0;32mpandas/_libs/index.pyx\u001b[0m in \u001b[0;36mpandas._libs.index.IndexEngine.get_loc\u001b[0;34m()\u001b[0m\n",
      "\u001b[0;32mpandas/_libs/hashtable_class_helper.pxi\u001b[0m in \u001b[0;36mpandas._libs.hashtable.PyObjectHashTable.get_item\u001b[0;34m()\u001b[0m\n",
      "\u001b[0;32mpandas/_libs/hashtable_class_helper.pxi\u001b[0m in \u001b[0;36mpandas._libs.hashtable.PyObjectHashTable.get_item\u001b[0;34m()\u001b[0m\n",
      "\u001b[0;31mKeyError\u001b[0m: 0",
      "\nDuring handling of the above exception, another exception occurred:\n",
      "\u001b[0;31mKeyError\u001b[0m                                  Traceback (most recent call last)",
      "\u001b[0;32m<ipython-input-7-ad11118bc8f3>\u001b[0m in \u001b[0;36m<module>\u001b[0;34m\u001b[0m\n\u001b[0;32m----> 1\u001b[0;31m \u001b[0mdf\u001b[0m\u001b[0;34m[\u001b[0m\u001b[0;36m0\u001b[0m\u001b[0;34m]\u001b[0m\u001b[0;34m\u001b[0m\u001b[0;34m\u001b[0m\u001b[0m\n\u001b[0m",
      "\u001b[0;32m~/.pyenv/versions/anaconda3-2019.10/lib/python3.7/site-packages/pandas/core/frame.py\u001b[0m in \u001b[0;36m__getitem__\u001b[0;34m(self, key)\u001b[0m\n\u001b[1;32m   2978\u001b[0m             \u001b[0;32mif\u001b[0m \u001b[0mself\u001b[0m\u001b[0;34m.\u001b[0m\u001b[0mcolumns\u001b[0m\u001b[0;34m.\u001b[0m\u001b[0mnlevels\u001b[0m \u001b[0;34m>\u001b[0m \u001b[0;36m1\u001b[0m\u001b[0;34m:\u001b[0m\u001b[0;34m\u001b[0m\u001b[0;34m\u001b[0m\u001b[0m\n\u001b[1;32m   2979\u001b[0m                 \u001b[0;32mreturn\u001b[0m \u001b[0mself\u001b[0m\u001b[0;34m.\u001b[0m\u001b[0m_getitem_multilevel\u001b[0m\u001b[0;34m(\u001b[0m\u001b[0mkey\u001b[0m\u001b[0;34m)\u001b[0m\u001b[0;34m\u001b[0m\u001b[0;34m\u001b[0m\u001b[0m\n\u001b[0;32m-> 2980\u001b[0;31m             \u001b[0mindexer\u001b[0m \u001b[0;34m=\u001b[0m \u001b[0mself\u001b[0m\u001b[0;34m.\u001b[0m\u001b[0mcolumns\u001b[0m\u001b[0;34m.\u001b[0m\u001b[0mget_loc\u001b[0m\u001b[0;34m(\u001b[0m\u001b[0mkey\u001b[0m\u001b[0;34m)\u001b[0m\u001b[0;34m\u001b[0m\u001b[0;34m\u001b[0m\u001b[0m\n\u001b[0m\u001b[1;32m   2981\u001b[0m             \u001b[0;32mif\u001b[0m \u001b[0mis_integer\u001b[0m\u001b[0;34m(\u001b[0m\u001b[0mindexer\u001b[0m\u001b[0;34m)\u001b[0m\u001b[0;34m:\u001b[0m\u001b[0;34m\u001b[0m\u001b[0;34m\u001b[0m\u001b[0m\n\u001b[1;32m   2982\u001b[0m                 \u001b[0mindexer\u001b[0m \u001b[0;34m=\u001b[0m \u001b[0;34m[\u001b[0m\u001b[0mindexer\u001b[0m\u001b[0;34m]\u001b[0m\u001b[0;34m\u001b[0m\u001b[0;34m\u001b[0m\u001b[0m\n",
      "\u001b[0;32m~/.pyenv/versions/anaconda3-2019.10/lib/python3.7/site-packages/pandas/core/indexes/base.py\u001b[0m in \u001b[0;36mget_loc\u001b[0;34m(self, key, method, tolerance)\u001b[0m\n\u001b[1;32m   2897\u001b[0m                 \u001b[0;32mreturn\u001b[0m \u001b[0mself\u001b[0m\u001b[0;34m.\u001b[0m\u001b[0m_engine\u001b[0m\u001b[0;34m.\u001b[0m\u001b[0mget_loc\u001b[0m\u001b[0;34m(\u001b[0m\u001b[0mkey\u001b[0m\u001b[0;34m)\u001b[0m\u001b[0;34m\u001b[0m\u001b[0;34m\u001b[0m\u001b[0m\n\u001b[1;32m   2898\u001b[0m             \u001b[0;32mexcept\u001b[0m \u001b[0mKeyError\u001b[0m\u001b[0;34m:\u001b[0m\u001b[0;34m\u001b[0m\u001b[0;34m\u001b[0m\u001b[0m\n\u001b[0;32m-> 2899\u001b[0;31m                 \u001b[0;32mreturn\u001b[0m \u001b[0mself\u001b[0m\u001b[0;34m.\u001b[0m\u001b[0m_engine\u001b[0m\u001b[0;34m.\u001b[0m\u001b[0mget_loc\u001b[0m\u001b[0;34m(\u001b[0m\u001b[0mself\u001b[0m\u001b[0;34m.\u001b[0m\u001b[0m_maybe_cast_indexer\u001b[0m\u001b[0;34m(\u001b[0m\u001b[0mkey\u001b[0m\u001b[0;34m)\u001b[0m\u001b[0;34m)\u001b[0m\u001b[0;34m\u001b[0m\u001b[0;34m\u001b[0m\u001b[0m\n\u001b[0m\u001b[1;32m   2900\u001b[0m         \u001b[0mindexer\u001b[0m \u001b[0;34m=\u001b[0m \u001b[0mself\u001b[0m\u001b[0;34m.\u001b[0m\u001b[0mget_indexer\u001b[0m\u001b[0;34m(\u001b[0m\u001b[0;34m[\u001b[0m\u001b[0mkey\u001b[0m\u001b[0;34m]\u001b[0m\u001b[0;34m,\u001b[0m \u001b[0mmethod\u001b[0m\u001b[0;34m=\u001b[0m\u001b[0mmethod\u001b[0m\u001b[0;34m,\u001b[0m \u001b[0mtolerance\u001b[0m\u001b[0;34m=\u001b[0m\u001b[0mtolerance\u001b[0m\u001b[0;34m)\u001b[0m\u001b[0;34m\u001b[0m\u001b[0;34m\u001b[0m\u001b[0m\n\u001b[1;32m   2901\u001b[0m         \u001b[0;32mif\u001b[0m \u001b[0mindexer\u001b[0m\u001b[0;34m.\u001b[0m\u001b[0mndim\u001b[0m \u001b[0;34m>\u001b[0m \u001b[0;36m1\u001b[0m \u001b[0;32mor\u001b[0m \u001b[0mindexer\u001b[0m\u001b[0;34m.\u001b[0m\u001b[0msize\u001b[0m \u001b[0;34m>\u001b[0m \u001b[0;36m1\u001b[0m\u001b[0;34m:\u001b[0m\u001b[0;34m\u001b[0m\u001b[0;34m\u001b[0m\u001b[0m\n",
      "\u001b[0;32mpandas/_libs/index.pyx\u001b[0m in \u001b[0;36mpandas._libs.index.IndexEngine.get_loc\u001b[0;34m()\u001b[0m\n",
      "\u001b[0;32mpandas/_libs/index.pyx\u001b[0m in \u001b[0;36mpandas._libs.index.IndexEngine.get_loc\u001b[0;34m()\u001b[0m\n",
      "\u001b[0;32mpandas/_libs/hashtable_class_helper.pxi\u001b[0m in \u001b[0;36mpandas._libs.hashtable.PyObjectHashTable.get_item\u001b[0;34m()\u001b[0m\n",
      "\u001b[0;32mpandas/_libs/hashtable_class_helper.pxi\u001b[0m in \u001b[0;36mpandas._libs.hashtable.PyObjectHashTable.get_item\u001b[0;34m()\u001b[0m\n",
      "\u001b[0;31mKeyError\u001b[0m: 0"
     ]
    }
   ],
   "source": [
    "df[0]"
   ]
  },
  {
   "cell_type": "markdown",
   "metadata": {},
   "source": [
    "Yikes! Lots of errors. The problem is that we tried to index numerically by row. **We index `DataFrame`s, by columns.** And there is no column that has the name `0` in this `DataFrame`, though there could be. Instead, a might want to look at the column with the percentage of correct face matching tasks."
   ]
  },
  {
   "cell_type": "code",
   "execution_count": 8,
   "metadata": {},
   "outputs": [
    {
     "output_type": "execute_result",
     "data": {
      "text/plain": "0      72.5\n1      90.0\n2      92.5\n3      87.5\n4      62.5\n       ... \n97     77.5\n98     87.5\n99     75.0\n100    70.0\n101    62.5\nName: percent correct, Length: 102, dtype: float64"
     },
     "metadata": {},
     "execution_count": 8
    }
   ],
   "source": [
    "df['percent correct']"
   ]
  },
  {
   "cell_type": "markdown",
   "metadata": {},
   "source": [
    "This gave us the numbers we were after. Notice that when it was printed, the index of the rows came along with it. If we wanted to pull out a single percentage correct, say corresponding to index `4`, we can do that."
   ]
  },
  {
   "cell_type": "code",
   "execution_count": 9,
   "metadata": {},
   "outputs": [
    {
     "output_type": "execute_result",
     "data": {
      "text/plain": "62.5"
     },
     "metadata": {},
     "execution_count": 9
    }
   ],
   "source": [
    "df['percent correct'][4]"
   ]
  },
  {
   "cell_type": "markdown",
   "metadata": {},
   "source": [
    "However, this is **not** the preferred way to do this. It is better to use **`.loc`**. This give the location in the `DataFrame` we want."
   ]
  },
  {
   "cell_type": "code",
   "execution_count": 10,
   "metadata": {},
   "outputs": [
    {
     "data": {
      "text/plain": [
       "62.5"
      ]
     },
     "execution_count": 10,
     "metadata": {},
     "output_type": "execute_result"
    }
   ],
   "source": [
    "df.loc[4, 'percent correct']"
   ]
  },
  {
   "cell_type": "markdown",
   "metadata": {},
   "source": [
    "It is also important to note that **row indices need not be integers**. And you should not count on them being integers. In practice you will almost never use row indices, but rather use **Boolean indexing**."
   ]
  },
  {
   "cell_type": "markdown",
   "metadata": {},
   "source": [
    "## Boolean indexing of data frames\n",
    "\n",
    "Let's say I wanted the percent correct of participant number 42. I can use Boolean indexing to specify the row. Specifically, I want the row for which `df['participant number'] == 42`. You can essentially plop this syntax directly when using `.loc`."
   ]
  },
  {
   "cell_type": "code",
   "execution_count": 10,
   "metadata": {},
   "outputs": [
    {
     "output_type": "execute_result",
     "data": {
      "text/plain": "54    85.0\nName: percent correct, dtype: float64"
     },
     "metadata": {},
     "execution_count": 10
    }
   ],
   "source": [
    "df.loc[df['participant number'] == 42, 'percent correct']"
   ]
  },
  {
   "cell_type": "markdown",
   "metadata": {},
   "source": [
    "If I want to pull the whole record for that participant, I can use `:` for the column index."
   ]
  },
  {
   "cell_type": "code",
   "execution_count": 11,
   "metadata": {},
   "outputs": [
    {
     "output_type": "execute_result",
     "data": {
      "text/plain": "    participant number gender  age  correct hit percentage  \\\n54                  42      m   29                     100   \n\n    correct reject percentage  percent correct  confidence when correct hit  \\\n54                         70             85.0                         75.0   \n\n    confidence incorrect hit  confidence correct reject  \\\n54                       NaN                       64.5   \n\n    confidence incorrect reject  confidence when correct  \\\n54                         43.0                     74.0   \n\n    confidence when incorrect  sci  psqi  ess  \n54                       43.0   32     1    6  ",
      "text/html": "<div>\n<style scoped>\n    .dataframe tbody tr th:only-of-type {\n        vertical-align: middle;\n    }\n\n    .dataframe tbody tr th {\n        vertical-align: top;\n    }\n\n    .dataframe thead th {\n        text-align: right;\n    }\n</style>\n<table border=\"1\" class=\"dataframe\">\n  <thead>\n    <tr style=\"text-align: right;\">\n      <th></th>\n      <th>participant number</th>\n      <th>gender</th>\n      <th>age</th>\n      <th>correct hit percentage</th>\n      <th>correct reject percentage</th>\n      <th>percent correct</th>\n      <th>confidence when correct hit</th>\n      <th>confidence incorrect hit</th>\n      <th>confidence correct reject</th>\n      <th>confidence incorrect reject</th>\n      <th>confidence when correct</th>\n      <th>confidence when incorrect</th>\n      <th>sci</th>\n      <th>psqi</th>\n      <th>ess</th>\n    </tr>\n  </thead>\n  <tbody>\n    <tr>\n      <td>54</td>\n      <td>42</td>\n      <td>m</td>\n      <td>29</td>\n      <td>100</td>\n      <td>70</td>\n      <td>85.0</td>\n      <td>75.0</td>\n      <td>NaN</td>\n      <td>64.5</td>\n      <td>43.0</td>\n      <td>74.0</td>\n      <td>43.0</td>\n      <td>32</td>\n      <td>1</td>\n      <td>6</td>\n    </tr>\n  </tbody>\n</table>\n</div>"
     },
     "metadata": {},
     "execution_count": 11
    }
   ],
   "source": [
    "df.loc[df['participant number'] == 42, :]"
   ]
  },
  {
   "cell_type": "markdown",
   "metadata": {},
   "source": [
    "Notice that the index, `54`, comes along for the ride, but we do not need it.\n",
    "\n",
    "Now, let's pull out all records of females under the age of 21. We can again use Boolean indexing, but we need to use an `&` operator. We did not cover this bitwise operator before, but the syntax is self-explanatory in the example below. Note that it is important that each Boolean operation you are doing is in parentheses because of the precedence of the operators involved."
   ]
  },
  {
   "cell_type": "code",
   "execution_count": 12,
   "metadata": {},
   "outputs": [
    {
     "output_type": "execute_result",
     "data": {
      "text/plain": "    participant number gender  age  correct hit percentage  \\\n27                   3      f   16                      70   \n29                   5      f   18                      90   \n66                  58      f   16                      85   \n79                  72      f   18                      80   \n88                  85      f   18                      85   \n\n    correct reject percentage  percent correct  confidence when correct hit  \\\n27                         80             75.0                         70.0   \n29                        100             95.0                         76.5   \n66                         85             85.0                         55.0   \n79                         75             77.5                         67.5   \n88                         85             85.0                         93.0   \n\n    confidence incorrect hit  confidence correct reject  \\\n27                      57.0                       54.0   \n29                      83.0                       80.0   \n66                      30.0                       50.0   \n79                      51.5                       66.0   \n88                      92.0                       91.0   \n\n    confidence incorrect reject  confidence when correct  \\\n27                         53.0                     57.0   \n29                          NaN                     80.0   \n66                         40.0                     52.5   \n79                         57.0                     67.0   \n88                         89.0                     91.5   \n\n    confidence when incorrect  sci  psqi  ess  \n27                       54.5   23     1    3  \n29                       83.0   21     7    5  \n66                       35.0   29     2   11  \n79                       53.0   29     4    6  \n88                       91.0   25     4   21  ",
      "text/html": "<div>\n<style scoped>\n    .dataframe tbody tr th:only-of-type {\n        vertical-align: middle;\n    }\n\n    .dataframe tbody tr th {\n        vertical-align: top;\n    }\n\n    .dataframe thead th {\n        text-align: right;\n    }\n</style>\n<table border=\"1\" class=\"dataframe\">\n  <thead>\n    <tr style=\"text-align: right;\">\n      <th></th>\n      <th>participant number</th>\n      <th>gender</th>\n      <th>age</th>\n      <th>correct hit percentage</th>\n      <th>correct reject percentage</th>\n      <th>percent correct</th>\n      <th>confidence when correct hit</th>\n      <th>confidence incorrect hit</th>\n      <th>confidence correct reject</th>\n      <th>confidence incorrect reject</th>\n      <th>confidence when correct</th>\n      <th>confidence when incorrect</th>\n      <th>sci</th>\n      <th>psqi</th>\n      <th>ess</th>\n    </tr>\n  </thead>\n  <tbody>\n    <tr>\n      <td>27</td>\n      <td>3</td>\n      <td>f</td>\n      <td>16</td>\n      <td>70</td>\n      <td>80</td>\n      <td>75.0</td>\n      <td>70.0</td>\n      <td>57.0</td>\n      <td>54.0</td>\n      <td>53.0</td>\n      <td>57.0</td>\n      <td>54.5</td>\n      <td>23</td>\n      <td>1</td>\n      <td>3</td>\n    </tr>\n    <tr>\n      <td>29</td>\n      <td>5</td>\n      <td>f</td>\n      <td>18</td>\n      <td>90</td>\n      <td>100</td>\n      <td>95.0</td>\n      <td>76.5</td>\n      <td>83.0</td>\n      <td>80.0</td>\n      <td>NaN</td>\n      <td>80.0</td>\n      <td>83.0</td>\n      <td>21</td>\n      <td>7</td>\n      <td>5</td>\n    </tr>\n    <tr>\n      <td>66</td>\n      <td>58</td>\n      <td>f</td>\n      <td>16</td>\n      <td>85</td>\n      <td>85</td>\n      <td>85.0</td>\n      <td>55.0</td>\n      <td>30.0</td>\n      <td>50.0</td>\n      <td>40.0</td>\n      <td>52.5</td>\n      <td>35.0</td>\n      <td>29</td>\n      <td>2</td>\n      <td>11</td>\n    </tr>\n    <tr>\n      <td>79</td>\n      <td>72</td>\n      <td>f</td>\n      <td>18</td>\n      <td>80</td>\n      <td>75</td>\n      <td>77.5</td>\n      <td>67.5</td>\n      <td>51.5</td>\n      <td>66.0</td>\n      <td>57.0</td>\n      <td>67.0</td>\n      <td>53.0</td>\n      <td>29</td>\n      <td>4</td>\n      <td>6</td>\n    </tr>\n    <tr>\n      <td>88</td>\n      <td>85</td>\n      <td>f</td>\n      <td>18</td>\n      <td>85</td>\n      <td>85</td>\n      <td>85.0</td>\n      <td>93.0</td>\n      <td>92.0</td>\n      <td>91.0</td>\n      <td>89.0</td>\n      <td>91.5</td>\n      <td>91.0</td>\n      <td>25</td>\n      <td>4</td>\n      <td>21</td>\n    </tr>\n  </tbody>\n</table>\n</div>"
     },
     "metadata": {},
     "execution_count": 12
    }
   ],
   "source": [
    "df.loc[(df['age'] < 21) & (df['gender'] == 'f'), :]"
   ]
  },
  {
   "cell_type": "markdown",
   "metadata": {},
   "source": [
    "We can do something even more complicated, like pull out all females under 30 who got more than 85% of the face matching tasks correct. The code is clearer if we set up our Boolean indexing first, as follows."
   ]
  },
  {
   "cell_type": "code",
   "execution_count": 14,
   "metadata": {},
   "outputs": [
    {
     "output_type": "execute_result",
     "data": {
      "text/plain": "0      False\n1      False\n2      False\n3      False\n4      False\n       ...  \n97     False\n98     False\n99     False\n100    False\n101    False\nLength: 102, dtype: bool"
     },
     "metadata": {},
     "execution_count": 14
    }
   ],
   "source": [
    "inds = (df['age'] < 30) & (df['gender'] == 'f') & (df['percent correct'] > 85)\n",
    "\n",
    "# Take a look\n",
    "inds"
   ]
  },
  {
   "cell_type": "markdown",
   "metadata": {},
   "source": [
    "Notice that `inds` is an array (actually a Pandas `Series`, essentially a `DataFrame` with one column) of `True`s and `False`s. When we index with it using `.loc`, we get back rows where `inds` is `True`."
   ]
  },
  {
   "cell_type": "code",
   "execution_count": 15,
   "metadata": {},
   "outputs": [
    {
     "output_type": "execute_result",
     "data": {
      "text/plain": "    participant number gender  age  correct hit percentage  \\\n22                  93      f   28                     100   \n29                   5      f   18                      90   \n30                   6      f   28                      95   \n33                  10      f   25                     100   \n56                  44      f   21                      85   \n58                  48      f   23                      90   \n60                  51      f   24                      85   \n75                  67      f   25                     100   \n\n    correct reject percentage  percent correct  confidence when correct hit  \\\n22                         75             87.5                         89.5   \n29                        100             95.0                         76.5   \n30                         80             87.5                        100.0   \n33                        100            100.0                         90.0   \n56                         90             87.5                         66.0   \n58                         85             87.5                         67.0   \n60                         95             90.0                         97.0   \n75                        100            100.0                         61.5   \n\n    confidence incorrect hit  confidence correct reject  \\\n22                       NaN                       67.0   \n29                      83.0                       80.0   \n30                      85.0                       94.0   \n33                       NaN                       85.0   \n56                      29.0                       70.0   \n58                      47.0                       69.0   \n60                      41.0                       74.0   \n75                       NaN                       58.5   \n\n    confidence incorrect reject  confidence when correct  \\\n22                         60.0                     80.0   \n29                          NaN                     80.0   \n30                         61.0                     99.0   \n33                          NaN                     90.0   \n56                         29.0                     67.0   \n58                         40.0                     67.0   \n60                         73.0                     83.0   \n75                          NaN                     60.5   \n\n    confidence when incorrect  sci  psqi  ess  \n22                       60.0   16     7    4  \n29                       83.0   21     7    5  \n30                       65.0   19     7   12  \n33                        NaN   17    10   11  \n56                       29.0   26     7   18  \n58                       40.0   18     6    8  \n60                       55.5   29     1    7  \n75                        NaN   28     8    9  ",
      "text/html": "<div>\n<style scoped>\n    .dataframe tbody tr th:only-of-type {\n        vertical-align: middle;\n    }\n\n    .dataframe tbody tr th {\n        vertical-align: top;\n    }\n\n    .dataframe thead th {\n        text-align: right;\n    }\n</style>\n<table border=\"1\" class=\"dataframe\">\n  <thead>\n    <tr style=\"text-align: right;\">\n      <th></th>\n      <th>participant number</th>\n      <th>gender</th>\n      <th>age</th>\n      <th>correct hit percentage</th>\n      <th>correct reject percentage</th>\n      <th>percent correct</th>\n      <th>confidence when correct hit</th>\n      <th>confidence incorrect hit</th>\n      <th>confidence correct reject</th>\n      <th>confidence incorrect reject</th>\n      <th>confidence when correct</th>\n      <th>confidence when incorrect</th>\n      <th>sci</th>\n      <th>psqi</th>\n      <th>ess</th>\n    </tr>\n  </thead>\n  <tbody>\n    <tr>\n      <td>22</td>\n      <td>93</td>\n      <td>f</td>\n      <td>28</td>\n      <td>100</td>\n      <td>75</td>\n      <td>87.5</td>\n      <td>89.5</td>\n      <td>NaN</td>\n      <td>67.0</td>\n      <td>60.0</td>\n      <td>80.0</td>\n      <td>60.0</td>\n      <td>16</td>\n      <td>7</td>\n      <td>4</td>\n    </tr>\n    <tr>\n      <td>29</td>\n      <td>5</td>\n      <td>f</td>\n      <td>18</td>\n      <td>90</td>\n      <td>100</td>\n      <td>95.0</td>\n      <td>76.5</td>\n      <td>83.0</td>\n      <td>80.0</td>\n      <td>NaN</td>\n      <td>80.0</td>\n      <td>83.0</td>\n      <td>21</td>\n      <td>7</td>\n      <td>5</td>\n    </tr>\n    <tr>\n      <td>30</td>\n      <td>6</td>\n      <td>f</td>\n      <td>28</td>\n      <td>95</td>\n      <td>80</td>\n      <td>87.5</td>\n      <td>100.0</td>\n      <td>85.0</td>\n      <td>94.0</td>\n      <td>61.0</td>\n      <td>99.0</td>\n      <td>65.0</td>\n      <td>19</td>\n      <td>7</td>\n      <td>12</td>\n    </tr>\n    <tr>\n      <td>33</td>\n      <td>10</td>\n      <td>f</td>\n      <td>25</td>\n      <td>100</td>\n      <td>100</td>\n      <td>100.0</td>\n      <td>90.0</td>\n      <td>NaN</td>\n      <td>85.0</td>\n      <td>NaN</td>\n      <td>90.0</td>\n      <td>NaN</td>\n      <td>17</td>\n      <td>10</td>\n      <td>11</td>\n    </tr>\n    <tr>\n      <td>56</td>\n      <td>44</td>\n      <td>f</td>\n      <td>21</td>\n      <td>85</td>\n      <td>90</td>\n      <td>87.5</td>\n      <td>66.0</td>\n      <td>29.0</td>\n      <td>70.0</td>\n      <td>29.0</td>\n      <td>67.0</td>\n      <td>29.0</td>\n      <td>26</td>\n      <td>7</td>\n      <td>18</td>\n    </tr>\n    <tr>\n      <td>58</td>\n      <td>48</td>\n      <td>f</td>\n      <td>23</td>\n      <td>90</td>\n      <td>85</td>\n      <td>87.5</td>\n      <td>67.0</td>\n      <td>47.0</td>\n      <td>69.0</td>\n      <td>40.0</td>\n      <td>67.0</td>\n      <td>40.0</td>\n      <td>18</td>\n      <td>6</td>\n      <td>8</td>\n    </tr>\n    <tr>\n      <td>60</td>\n      <td>51</td>\n      <td>f</td>\n      <td>24</td>\n      <td>85</td>\n      <td>95</td>\n      <td>90.0</td>\n      <td>97.0</td>\n      <td>41.0</td>\n      <td>74.0</td>\n      <td>73.0</td>\n      <td>83.0</td>\n      <td>55.5</td>\n      <td>29</td>\n      <td>1</td>\n      <td>7</td>\n    </tr>\n    <tr>\n      <td>75</td>\n      <td>67</td>\n      <td>f</td>\n      <td>25</td>\n      <td>100</td>\n      <td>100</td>\n      <td>100.0</td>\n      <td>61.5</td>\n      <td>NaN</td>\n      <td>58.5</td>\n      <td>NaN</td>\n      <td>60.5</td>\n      <td>NaN</td>\n      <td>28</td>\n      <td>8</td>\n      <td>9</td>\n    </tr>\n  </tbody>\n</table>\n</div>"
     },
     "metadata": {},
     "execution_count": 15
    }
   ],
   "source": [
    "df.loc[inds, :]"
   ]
  },
  {
   "cell_type": "markdown",
   "metadata": {},
   "source": [
    "Of interest in this exercise in Boolean indexing is that we never had to write a loop. To produce our indices, we could have done the following."
   ]
  },
  {
   "cell_type": "code",
   "execution_count": 16,
   "metadata": {},
   "outputs": [
    {
     "data": {
      "text/html": [
       "<div>\n",
       "<style scoped>\n",
       "    .dataframe tbody tr th:only-of-type {\n",
       "        vertical-align: middle;\n",
       "    }\n",
       "\n",
       "    .dataframe tbody tr th {\n",
       "        vertical-align: top;\n",
       "    }\n",
       "\n",
       "    .dataframe thead th {\n",
       "        text-align: right;\n",
       "    }\n",
       "</style>\n",
       "<table border=\"1\" class=\"dataframe\">\n",
       "  <thead>\n",
       "    <tr style=\"text-align: right;\">\n",
       "      <th></th>\n",
       "      <th>participant number</th>\n",
       "      <th>gender</th>\n",
       "      <th>age</th>\n",
       "      <th>correct hit percentage</th>\n",
       "      <th>correct reject percentage</th>\n",
       "      <th>percent correct</th>\n",
       "      <th>confidence when correct hit</th>\n",
       "      <th>confidence incorrect hit</th>\n",
       "      <th>confidence correct reject</th>\n",
       "      <th>confidence incorrect reject</th>\n",
       "      <th>confidence when correct</th>\n",
       "      <th>confidence when incorrect</th>\n",
       "      <th>sci</th>\n",
       "      <th>psqi</th>\n",
       "      <th>ess</th>\n",
       "    </tr>\n",
       "  </thead>\n",
       "  <tbody>\n",
       "    <tr>\n",
       "      <th>22</th>\n",
       "      <td>93</td>\n",
       "      <td>f</td>\n",
       "      <td>28</td>\n",
       "      <td>100</td>\n",
       "      <td>75</td>\n",
       "      <td>87.5</td>\n",
       "      <td>89.5</td>\n",
       "      <td>NaN</td>\n",
       "      <td>67.0</td>\n",
       "      <td>60.0</td>\n",
       "      <td>80.0</td>\n",
       "      <td>60.0</td>\n",
       "      <td>16</td>\n",
       "      <td>7</td>\n",
       "      <td>4</td>\n",
       "    </tr>\n",
       "    <tr>\n",
       "      <th>29</th>\n",
       "      <td>5</td>\n",
       "      <td>f</td>\n",
       "      <td>18</td>\n",
       "      <td>90</td>\n",
       "      <td>100</td>\n",
       "      <td>95.0</td>\n",
       "      <td>76.5</td>\n",
       "      <td>83.0</td>\n",
       "      <td>80.0</td>\n",
       "      <td>NaN</td>\n",
       "      <td>80.0</td>\n",
       "      <td>83.0</td>\n",
       "      <td>21</td>\n",
       "      <td>7</td>\n",
       "      <td>5</td>\n",
       "    </tr>\n",
       "    <tr>\n",
       "      <th>30</th>\n",
       "      <td>6</td>\n",
       "      <td>f</td>\n",
       "      <td>28</td>\n",
       "      <td>95</td>\n",
       "      <td>80</td>\n",
       "      <td>87.5</td>\n",
       "      <td>100.0</td>\n",
       "      <td>85.0</td>\n",
       "      <td>94.0</td>\n",
       "      <td>61.0</td>\n",
       "      <td>99.0</td>\n",
       "      <td>65.0</td>\n",
       "      <td>19</td>\n",
       "      <td>7</td>\n",
       "      <td>12</td>\n",
       "    </tr>\n",
       "    <tr>\n",
       "      <th>33</th>\n",
       "      <td>10</td>\n",
       "      <td>f</td>\n",
       "      <td>25</td>\n",
       "      <td>100</td>\n",
       "      <td>100</td>\n",
       "      <td>100.0</td>\n",
       "      <td>90.0</td>\n",
       "      <td>NaN</td>\n",
       "      <td>85.0</td>\n",
       "      <td>NaN</td>\n",
       "      <td>90.0</td>\n",
       "      <td>NaN</td>\n",
       "      <td>17</td>\n",
       "      <td>10</td>\n",
       "      <td>11</td>\n",
       "    </tr>\n",
       "    <tr>\n",
       "      <th>56</th>\n",
       "      <td>44</td>\n",
       "      <td>f</td>\n",
       "      <td>21</td>\n",
       "      <td>85</td>\n",
       "      <td>90</td>\n",
       "      <td>87.5</td>\n",
       "      <td>66.0</td>\n",
       "      <td>29.0</td>\n",
       "      <td>70.0</td>\n",
       "      <td>29.0</td>\n",
       "      <td>67.0</td>\n",
       "      <td>29.0</td>\n",
       "      <td>26</td>\n",
       "      <td>7</td>\n",
       "      <td>18</td>\n",
       "    </tr>\n",
       "    <tr>\n",
       "      <th>58</th>\n",
       "      <td>48</td>\n",
       "      <td>f</td>\n",
       "      <td>23</td>\n",
       "      <td>90</td>\n",
       "      <td>85</td>\n",
       "      <td>87.5</td>\n",
       "      <td>67.0</td>\n",
       "      <td>47.0</td>\n",
       "      <td>69.0</td>\n",
       "      <td>40.0</td>\n",
       "      <td>67.0</td>\n",
       "      <td>40.0</td>\n",
       "      <td>18</td>\n",
       "      <td>6</td>\n",
       "      <td>8</td>\n",
       "    </tr>\n",
       "    <tr>\n",
       "      <th>60</th>\n",
       "      <td>51</td>\n",
       "      <td>f</td>\n",
       "      <td>24</td>\n",
       "      <td>85</td>\n",
       "      <td>95</td>\n",
       "      <td>90.0</td>\n",
       "      <td>97.0</td>\n",
       "      <td>41.0</td>\n",
       "      <td>74.0</td>\n",
       "      <td>73.0</td>\n",
       "      <td>83.0</td>\n",
       "      <td>55.5</td>\n",
       "      <td>29</td>\n",
       "      <td>1</td>\n",
       "      <td>7</td>\n",
       "    </tr>\n",
       "    <tr>\n",
       "      <th>75</th>\n",
       "      <td>67</td>\n",
       "      <td>f</td>\n",
       "      <td>25</td>\n",
       "      <td>100</td>\n",
       "      <td>100</td>\n",
       "      <td>100.0</td>\n",
       "      <td>61.5</td>\n",
       "      <td>NaN</td>\n",
       "      <td>58.5</td>\n",
       "      <td>NaN</td>\n",
       "      <td>60.5</td>\n",
       "      <td>NaN</td>\n",
       "      <td>28</td>\n",
       "      <td>8</td>\n",
       "      <td>9</td>\n",
       "    </tr>\n",
       "  </tbody>\n",
       "</table>\n",
       "</div>"
      ],
      "text/plain": [
       "    participant number gender  age  correct hit percentage  \\\n",
       "22                  93      f   28                     100   \n",
       "29                   5      f   18                      90   \n",
       "30                   6      f   28                      95   \n",
       "33                  10      f   25                     100   \n",
       "56                  44      f   21                      85   \n",
       "58                  48      f   23                      90   \n",
       "60                  51      f   24                      85   \n",
       "75                  67      f   25                     100   \n",
       "\n",
       "    correct reject percentage  percent correct  confidence when correct hit  \\\n",
       "22                         75             87.5                         89.5   \n",
       "29                        100             95.0                         76.5   \n",
       "30                         80             87.5                        100.0   \n",
       "33                        100            100.0                         90.0   \n",
       "56                         90             87.5                         66.0   \n",
       "58                         85             87.5                         67.0   \n",
       "60                         95             90.0                         97.0   \n",
       "75                        100            100.0                         61.5   \n",
       "\n",
       "    confidence incorrect hit  confidence correct reject  \\\n",
       "22                       NaN                       67.0   \n",
       "29                      83.0                       80.0   \n",
       "30                      85.0                       94.0   \n",
       "33                       NaN                       85.0   \n",
       "56                      29.0                       70.0   \n",
       "58                      47.0                       69.0   \n",
       "60                      41.0                       74.0   \n",
       "75                       NaN                       58.5   \n",
       "\n",
       "    confidence incorrect reject  confidence when correct  \\\n",
       "22                         60.0                     80.0   \n",
       "29                          NaN                     80.0   \n",
       "30                         61.0                     99.0   \n",
       "33                          NaN                     90.0   \n",
       "56                         29.0                     67.0   \n",
       "58                         40.0                     67.0   \n",
       "60                         73.0                     83.0   \n",
       "75                          NaN                     60.5   \n",
       "\n",
       "    confidence when incorrect  sci  psqi  ess  \n",
       "22                       60.0   16     7    4  \n",
       "29                       83.0   21     7    5  \n",
       "30                       65.0   19     7   12  \n",
       "33                        NaN   17    10   11  \n",
       "56                       29.0   26     7   18  \n",
       "58                       40.0   18     6    8  \n",
       "60                       55.5   29     1    7  \n",
       "75                        NaN   28     8    9  "
      ]
     },
     "execution_count": 16,
     "metadata": {},
     "output_type": "execute_result"
    }
   ],
   "source": [
    "# Initialize array of Boolean indices\n",
    "inds = [False] * len(df)\n",
    "\n",
    "# Iterate over the rows of the DataFrame to check if the row should be included\n",
    "for i, r in df.iterrows():\n",
    "    if r['age'] < 30 and r['gender'] == 'f' and r['percent correct'] > 85:\n",
    "        inds[i] = True\n",
    "\n",
    "# Make our seleciton with Boolean indexing\n",
    "df.loc[inds, :]"
   ]
  },
  {
   "cell_type": "markdown",
   "metadata": {},
   "source": [
    "This feature, where the looping is done automatically on Pandas objects like `DataFrame`s, is very powerful and saves us writing lots of lines of code. This example also showed how to use the `iterrows()` method of a `DataFrame` to iterate over the rows of a `DataFrame`. It is actually rare that you will need to do that, as we'll show next when computing with `DataFrames`."
   ]
  },
  {
   "cell_type": "markdown",
   "metadata": {},
   "source": [
    "## Calculating with data frames\n",
    "\n",
    "Recall that a subject is said to suffer from insomnia if he or she has an SCI of 16 or below. We might like to add a column to the `DataFrame` that specifies whether or not the subject suffers from insomnia. We can conveniently compute with columns. This is done elementwise."
   ]
  },
  {
   "cell_type": "code",
   "execution_count": 16,
   "metadata": {},
   "outputs": [
    {
     "output_type": "execute_result",
     "data": {
      "text/plain": "0       True\n1       True\n2       True\n3       True\n4       True\n       ...  \n97     False\n98     False\n99     False\n100    False\n101    False\nName: sci, Length: 102, dtype: bool"
     },
     "metadata": {},
     "execution_count": 16
    }
   ],
   "source": [
    "df['sci'] <= 16"
   ]
  },
  {
   "cell_type": "markdown",
   "metadata": {},
   "source": [
    "This tells use who is an insomniac. We can simply add this back to the `DataFrame`."
   ]
  },
  {
   "cell_type": "code",
   "execution_count": 17,
   "metadata": {},
   "outputs": [
    {
     "output_type": "execute_result",
     "data": {
      "text/plain": "   participant number gender  age  correct hit percentage  \\\n0                   8      f   39                      65   \n1                  16      m   42                      90   \n2                  18      f   31                      90   \n3                  22      f   35                     100   \n4                  27      f   74                      60   \n\n   correct reject percentage  percent correct  confidence when correct hit  \\\n0                         80             72.5                         91.0   \n1                         90             90.0                         75.5   \n2                         95             92.5                         89.5   \n3                         75             87.5                         89.5   \n4                         65             62.5                         68.5   \n\n   confidence incorrect hit  confidence correct reject  \\\n0                      90.0                       93.0   \n1                      55.5                       70.5   \n2                      90.0                       86.0   \n3                       NaN                       71.0   \n4                      49.0                       61.0   \n\n   confidence incorrect reject  confidence when correct  \\\n0                         83.5                     93.0   \n1                         50.0                     75.0   \n2                         81.0                     89.0   \n3                         80.0                     88.0   \n4                         49.0                     65.0   \n\n   confidence when incorrect  sci  psqi  ess  insomnia  \n0                       90.0    9    13    2      True  \n1                       50.0    4    11    7      True  \n2                       88.0   10     9    3      True  \n3                       80.0   13     8   20      True  \n4                       49.0   13     9   12      True  ",
      "text/html": "<div>\n<style scoped>\n    .dataframe tbody tr th:only-of-type {\n        vertical-align: middle;\n    }\n\n    .dataframe tbody tr th {\n        vertical-align: top;\n    }\n\n    .dataframe thead th {\n        text-align: right;\n    }\n</style>\n<table border=\"1\" class=\"dataframe\">\n  <thead>\n    <tr style=\"text-align: right;\">\n      <th></th>\n      <th>participant number</th>\n      <th>gender</th>\n      <th>age</th>\n      <th>correct hit percentage</th>\n      <th>correct reject percentage</th>\n      <th>percent correct</th>\n      <th>confidence when correct hit</th>\n      <th>confidence incorrect hit</th>\n      <th>confidence correct reject</th>\n      <th>confidence incorrect reject</th>\n      <th>confidence when correct</th>\n      <th>confidence when incorrect</th>\n      <th>sci</th>\n      <th>psqi</th>\n      <th>ess</th>\n      <th>insomnia</th>\n    </tr>\n  </thead>\n  <tbody>\n    <tr>\n      <td>0</td>\n      <td>8</td>\n      <td>f</td>\n      <td>39</td>\n      <td>65</td>\n      <td>80</td>\n      <td>72.5</td>\n      <td>91.0</td>\n      <td>90.0</td>\n      <td>93.0</td>\n      <td>83.5</td>\n      <td>93.0</td>\n      <td>90.0</td>\n      <td>9</td>\n      <td>13</td>\n      <td>2</td>\n      <td>True</td>\n    </tr>\n    <tr>\n      <td>1</td>\n      <td>16</td>\n      <td>m</td>\n      <td>42</td>\n      <td>90</td>\n      <td>90</td>\n      <td>90.0</td>\n      <td>75.5</td>\n      <td>55.5</td>\n      <td>70.5</td>\n      <td>50.0</td>\n      <td>75.0</td>\n      <td>50.0</td>\n      <td>4</td>\n      <td>11</td>\n      <td>7</td>\n      <td>True</td>\n    </tr>\n    <tr>\n      <td>2</td>\n      <td>18</td>\n      <td>f</td>\n      <td>31</td>\n      <td>90</td>\n      <td>95</td>\n      <td>92.5</td>\n      <td>89.5</td>\n      <td>90.0</td>\n      <td>86.0</td>\n      <td>81.0</td>\n      <td>89.0</td>\n      <td>88.0</td>\n      <td>10</td>\n      <td>9</td>\n      <td>3</td>\n      <td>True</td>\n    </tr>\n    <tr>\n      <td>3</td>\n      <td>22</td>\n      <td>f</td>\n      <td>35</td>\n      <td>100</td>\n      <td>75</td>\n      <td>87.5</td>\n      <td>89.5</td>\n      <td>NaN</td>\n      <td>71.0</td>\n      <td>80.0</td>\n      <td>88.0</td>\n      <td>80.0</td>\n      <td>13</td>\n      <td>8</td>\n      <td>20</td>\n      <td>True</td>\n    </tr>\n    <tr>\n      <td>4</td>\n      <td>27</td>\n      <td>f</td>\n      <td>74</td>\n      <td>60</td>\n      <td>65</td>\n      <td>62.5</td>\n      <td>68.5</td>\n      <td>49.0</td>\n      <td>61.0</td>\n      <td>49.0</td>\n      <td>65.0</td>\n      <td>49.0</td>\n      <td>13</td>\n      <td>9</td>\n      <td>12</td>\n      <td>True</td>\n    </tr>\n  </tbody>\n</table>\n</div>"
     },
     "metadata": {},
     "execution_count": 17
    }
   ],
   "source": [
    "# Add the column to the DataFrame\n",
    "df['insomnia'] = df['sci'] <= 16\n",
    "\n",
    "# Take a look\n",
    "df.head()"
   ]
  },
  {
   "cell_type": "markdown",
   "metadata": {},
   "source": [
    "## A note about vectorization\n",
    "\n",
    "Notice how applying the `<=` operator to a `Series` resulted in **elementwise** application. This is called `vectorization`. It means that we do not have to write a **`for`** loop to do operations on the elements of a `Series` or other array-like object. Imagine if we had to do that with a **`for`** loop."
   ]
  },
  {
   "cell_type": "code",
   "execution_count": 19,
   "metadata": {},
   "outputs": [],
   "source": [
    "insomnia = []\n",
    "for sci in df['sci']:\n",
    "    insomnia.append(sci <= 16)"
   ]
  },
  {
   "cell_type": "markdown",
   "metadata": {},
   "source": [
    "This is cumbersome. The vectorization allows for much more convenient calculation. Beyond that, the vectorized code is almost always faster when using Pandas and Numpy because the looping is done with compiled code under the hood. This can be done with many operators, including those you've already seen, like `+`, `-`, `*`, `/`, `**`, etc."
   ]
  },
  {
   "cell_type": "markdown",
   "metadata": {},
   "source": [
    "## Applying functions to Pandas objects\n",
    "\n",
    "Remember when we briefly saw the `np.mean()` function? We can compute with that as well. Let's compare the mean percent correct for insomniacs versus those who are not."
   ]
  },
  {
   "cell_type": "code",
   "execution_count": 18,
   "metadata": {},
   "outputs": [
    {
     "output_type": "stream",
     "name": "stdout",
     "text": "Insomniacs: 76.1\nControl:    81.46103896103897\n"
    }
   ],
   "source": [
    "print('Insomniacs:', np.mean(df.loc[df['insomnia'], 'percent correct']))\n",
    "print('Control:   ', np.mean(df.loc[~df['insomnia'], 'percent correct']))"
   ]
  },
  {
   "cell_type": "markdown",
   "metadata": {},
   "source": [
    "Notice that I used the `~` operator, which is a bit switcher. It changes all `True`s to `False`s and vice versa. In this case, it functions like NOT.\n",
    "\n",
    "We will do a lot more computing with Pandas `DataFrame`s in the next lessons. For our last demonstration in this lesson, we can quickly compute summary statistics about each column of a `DataFrame` using its `describe()` method."
   ]
  },
  {
   "cell_type": "code",
   "execution_count": 19,
   "metadata": {},
   "outputs": [
    {
     "output_type": "execute_result",
     "data": {
      "text/plain": "       participant number         age  correct hit percentage  \\\ncount          102.000000  102.000000              102.000000   \nmean            52.049020   37.921569               83.088235   \nstd             30.020909   14.029450               15.091210   \nmin              1.000000   16.000000               35.000000   \n25%             26.250000   26.500000               75.000000   \n50%             52.500000   36.500000               90.000000   \n75%             77.750000   45.000000               95.000000   \nmax            103.000000   74.000000              100.000000   \n\n       correct reject percentage  percent correct  \\\ncount                 102.000000       102.000000   \nmean                   77.205882        80.147059   \nstd                    17.569854        12.047881   \nmin                    20.000000        40.000000   \n25%                    70.000000        72.500000   \n50%                    80.000000        83.750000   \n75%                    90.000000        87.500000   \nmax                   100.000000       100.000000   \n\n       confidence when correct hit  confidence incorrect hit  \\\ncount                   102.000000                 84.000000   \nmean                     74.990196                 58.565476   \nstd                      14.165916                 19.560653   \nmin                      29.500000                  7.000000   \n25%                      66.000000                 46.375000   \n50%                      75.000000                 56.250000   \n75%                      86.500000                 73.500000   \nmax                     100.000000                 92.000000   \n\n       confidence correct reject  confidence incorrect reject  \\\ncount                 102.000000                    93.000000   \nmean                   71.137255                    61.220430   \nstd                    14.987479                    17.671283   \nmin                    19.000000                    17.000000   \n25%                    64.625000                    50.000000   \n50%                    71.250000                    61.000000   \n75%                    80.000000                    74.000000   \nmax                   100.000000                   100.000000   \n\n       confidence when correct  confidence when incorrect         sci  \\\ncount               102.000000                  99.000000  102.000000   \nmean                 74.642157                  61.979798   22.245098   \nstd                  13.619725                  15.921670    7.547128   \nmin                  24.000000                  24.500000    0.000000   \n25%                  66.000000                  51.000000   17.000000   \n50%                  75.750000                  61.500000   23.500000   \n75%                  82.375000                  73.000000   29.000000   \nmax                 100.000000                 100.000000   32.000000   \n\n             psqi         ess  \ncount  102.000000  102.000000  \nmean     5.274510    7.294118  \nstd      3.404007    4.426715  \nmin      0.000000    0.000000  \n25%      3.000000    4.000000  \n50%      5.000000    7.000000  \n75%      7.000000   10.000000  \nmax     15.000000   21.000000  ",
      "text/html": "<div>\n<style scoped>\n    .dataframe tbody tr th:only-of-type {\n        vertical-align: middle;\n    }\n\n    .dataframe tbody tr th {\n        vertical-align: top;\n    }\n\n    .dataframe thead th {\n        text-align: right;\n    }\n</style>\n<table border=\"1\" class=\"dataframe\">\n  <thead>\n    <tr style=\"text-align: right;\">\n      <th></th>\n      <th>participant number</th>\n      <th>age</th>\n      <th>correct hit percentage</th>\n      <th>correct reject percentage</th>\n      <th>percent correct</th>\n      <th>confidence when correct hit</th>\n      <th>confidence incorrect hit</th>\n      <th>confidence correct reject</th>\n      <th>confidence incorrect reject</th>\n      <th>confidence when correct</th>\n      <th>confidence when incorrect</th>\n      <th>sci</th>\n      <th>psqi</th>\n      <th>ess</th>\n    </tr>\n  </thead>\n  <tbody>\n    <tr>\n      <td>count</td>\n      <td>102.000000</td>\n      <td>102.000000</td>\n      <td>102.000000</td>\n      <td>102.000000</td>\n      <td>102.000000</td>\n      <td>102.000000</td>\n      <td>84.000000</td>\n      <td>102.000000</td>\n      <td>93.000000</td>\n      <td>102.000000</td>\n      <td>99.000000</td>\n      <td>102.000000</td>\n      <td>102.000000</td>\n      <td>102.000000</td>\n    </tr>\n    <tr>\n      <td>mean</td>\n      <td>52.049020</td>\n      <td>37.921569</td>\n      <td>83.088235</td>\n      <td>77.205882</td>\n      <td>80.147059</td>\n      <td>74.990196</td>\n      <td>58.565476</td>\n      <td>71.137255</td>\n      <td>61.220430</td>\n      <td>74.642157</td>\n      <td>61.979798</td>\n      <td>22.245098</td>\n      <td>5.274510</td>\n      <td>7.294118</td>\n    </tr>\n    <tr>\n      <td>std</td>\n      <td>30.020909</td>\n      <td>14.029450</td>\n      <td>15.091210</td>\n      <td>17.569854</td>\n      <td>12.047881</td>\n      <td>14.165916</td>\n      <td>19.560653</td>\n      <td>14.987479</td>\n      <td>17.671283</td>\n      <td>13.619725</td>\n      <td>15.921670</td>\n      <td>7.547128</td>\n      <td>3.404007</td>\n      <td>4.426715</td>\n    </tr>\n    <tr>\n      <td>min</td>\n      <td>1.000000</td>\n      <td>16.000000</td>\n      <td>35.000000</td>\n      <td>20.000000</td>\n      <td>40.000000</td>\n      <td>29.500000</td>\n      <td>7.000000</td>\n      <td>19.000000</td>\n      <td>17.000000</td>\n      <td>24.000000</td>\n      <td>24.500000</td>\n      <td>0.000000</td>\n      <td>0.000000</td>\n      <td>0.000000</td>\n    </tr>\n    <tr>\n      <td>25%</td>\n      <td>26.250000</td>\n      <td>26.500000</td>\n      <td>75.000000</td>\n      <td>70.000000</td>\n      <td>72.500000</td>\n      <td>66.000000</td>\n      <td>46.375000</td>\n      <td>64.625000</td>\n      <td>50.000000</td>\n      <td>66.000000</td>\n      <td>51.000000</td>\n      <td>17.000000</td>\n      <td>3.000000</td>\n      <td>4.000000</td>\n    </tr>\n    <tr>\n      <td>50%</td>\n      <td>52.500000</td>\n      <td>36.500000</td>\n      <td>90.000000</td>\n      <td>80.000000</td>\n      <td>83.750000</td>\n      <td>75.000000</td>\n      <td>56.250000</td>\n      <td>71.250000</td>\n      <td>61.000000</td>\n      <td>75.750000</td>\n      <td>61.500000</td>\n      <td>23.500000</td>\n      <td>5.000000</td>\n      <td>7.000000</td>\n    </tr>\n    <tr>\n      <td>75%</td>\n      <td>77.750000</td>\n      <td>45.000000</td>\n      <td>95.000000</td>\n      <td>90.000000</td>\n      <td>87.500000</td>\n      <td>86.500000</td>\n      <td>73.500000</td>\n      <td>80.000000</td>\n      <td>74.000000</td>\n      <td>82.375000</td>\n      <td>73.000000</td>\n      <td>29.000000</td>\n      <td>7.000000</td>\n      <td>10.000000</td>\n    </tr>\n    <tr>\n      <td>max</td>\n      <td>103.000000</td>\n      <td>74.000000</td>\n      <td>100.000000</td>\n      <td>100.000000</td>\n      <td>100.000000</td>\n      <td>100.000000</td>\n      <td>92.000000</td>\n      <td>100.000000</td>\n      <td>100.000000</td>\n      <td>100.000000</td>\n      <td>100.000000</td>\n      <td>32.000000</td>\n      <td>15.000000</td>\n      <td>21.000000</td>\n    </tr>\n  </tbody>\n</table>\n</div>"
     },
     "metadata": {},
     "execution_count": 19
    }
   ],
   "source": [
    "df.describe()"
   ]
  },
  {
   "cell_type": "markdown",
   "metadata": {},
   "source": [
    "This gives us a `DataFrame` with summary statistics. Note that in this `DataFrame`, the row indices are not integers, but are the names of the summary statistics. If we wanted to extract the median value of each entry, we could do that with `.loc`."
   ]
  },
  {
   "cell_type": "code",
   "execution_count": 20,
   "metadata": {},
   "outputs": [
    {
     "output_type": "execute_result",
     "data": {
      "text/plain": "participant number             52.50\nage                            36.50\ncorrect hit percentage         90.00\ncorrect reject percentage      80.00\npercent correct                83.75\nconfidence when correct hit    75.00\nconfidence incorrect hit       56.25\nconfidence correct reject      71.25\nconfidence incorrect reject    61.00\nconfidence when correct        75.75\nconfidence when incorrect      61.50\nsci                            23.50\npsqi                            5.00\ness                             7.00\nName: 50%, dtype: float64"
     },
     "metadata": {},
     "execution_count": 20
    }
   ],
   "source": [
    "df.describe().loc['50%', :]"
   ]
  },
  {
   "cell_type": "markdown",
   "metadata": {},
   "source": [
    "### Outputting a new CSV file\n",
    "\n",
    "Now that we added the insomniac column, we might like to save our `DataFrame` as a new CSV that we can reload later. We use `df.to_csv()` for this with the `index` kwarg to ask Pandas not to explicitly write the indices to the file."
   ]
  },
  {
   "cell_type": "code",
   "execution_count": 21,
   "metadata": {},
   "outputs": [],
   "source": [
    "df.to_csv('gfmt_sleep_with_insomnia.csv', index=False)"
   ]
  },
  {
   "cell_type": "markdown",
   "metadata": {},
   "source": [
    "Let's take a look at what this file looks like."
   ]
  },
  {
   "cell_type": "code",
   "execution_count": 22,
   "metadata": {},
   "outputs": [
    {
     "output_type": "stream",
     "name": "stdout",
     "text": "participant number,gender,age,correct hit percentage,correct reject percentage,percent correct,confidence when correct hit,confidence incorrect hit,confidence correct reject,confidence incorrect reject,confidence when correct,confidence when incorrect,sci,psqi,ess,insomnia\n8,f,39,65,80,72.5,91.0,90.0,93.0,83.5,93.0,90.0,9,13,2,True\n16,m,42,90,90,90.0,75.5,55.5,70.5,50.0,75.0,50.0,4,11,7,True\n18,f,31,90,95,92.5,89.5,90.0,86.0,81.0,89.0,88.0,10,9,3,True\n22,f,35,100,75,87.5,89.5,,71.0,80.0,88.0,80.0,13,8,20,True\n27,f,74,60,65,62.5,68.5,49.0,61.0,49.0,65.0,49.0,13,9,12,True\n28,f,61,80,20,50.0,71.0,63.0,31.0,72.5,64.5,70.5,15,14,2,True\n30,m,32,90,75,82.5,67.0,56.5,66.0,65.0,66.0,64.0,16,9,3,True\n33,m,62,45,90,67.5,54.0,37.0,65.0,81.5,62.0,61.0,14,9,9,True\n34,f,33,80,100,90.0,70.5,76.5,64.5,,68.0,76.5,14,12,10,True\n"
    }
   ],
   "source": [
    "!head gfmt_sleep_with_insomnia.csv"
   ]
  },
  {
   "cell_type": "markdown",
   "metadata": {},
   "source": [
    "Very nice. Notice that by default Pandas leaves an empty field for NaNs, and we do not need the `na_values` kwarg when we load in this CSV file."
   ]
  },
  {
   "cell_type": "markdown",
   "metadata": {},
   "source": [
    "## Computing environment"
   ]
  },
  {
   "cell_type": "code",
   "execution_count": 25,
   "metadata": {},
   "outputs": [
    {
     "name": "stdout",
     "output_type": "stream",
     "text": [
      "CPython 3.6.8\n",
      "IPython 7.1.1\n",
      "\n",
      "numpy 1.16.4\n",
      "pandas 0.24.2\n",
      "jupyterlab 1.0.2\n"
     ]
    }
   ],
   "source": [
    "%load_ext watermark\n",
    "%watermark -v -p numpy,pandas,jupyterlab"
   ]
  },
  {
   "cell_type": "code",
   "execution_count": null,
   "metadata": {
    "collapsed": true,
    "jupyter": {
     "outputs_hidden": true
    }
   },
   "outputs": [],
   "source": []
  }
 ],
 "metadata": {
  "anaconda-cloud": {},
  "kernelspec": {
   "display_name": "Python 3.7.4 64-bit ('anaconda3-2019.10': conda)",
   "language": "python",
   "name": "python37464bitanaconda3201910conda0621f054710540dbaa1105351f73485d"
  },
  "language_info": {
   "codemirror_mode": {
    "name": "ipython",
    "version": 3
   },
   "file_extension": ".py",
   "mimetype": "text/x-python",
   "name": "python",
   "nbconvert_exporter": "python",
   "pygments_lexer": "ipython3",
   "version": "3.7.4-final"
  }
 },
 "nbformat": 4,
 "nbformat_minor": 4
}